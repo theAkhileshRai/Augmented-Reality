{
  "nbformat": 4,
  "nbformat_minor": 0,
  "metadata": {
    "colab": {
      "name": "AssetLvl-Pred-lNN BinaryClassifierDCP03.ipynb",
      "provenance": [],
      "collapsed_sections": [],
      "toc_visible": true,
      "authorship_tag": "ABX9TyN2LnXcDu3nHZXa6CocASrr",
      "include_colab_link": true
    },
    "kernelspec": {
      "name": "python3",
      "display_name": "Python 3"
    },
    "accelerator": "GPU"
  },
  "cells": [
    {
      "cell_type": "markdown",
      "metadata": {
        "id": "view-in-github",
        "colab_type": "text"
      },
      "source": [
        "<a href=\"https://colab.research.google.com/github/theAkhileshRai/Augmented-Reality/blob/master/AssetLvl_Pred_lNN_BinaryClassifierDCP03.ipynb\" target=\"_parent\"><img src=\"https://colab.research.google.com/assets/colab-badge.svg\" alt=\"Open In Colab\"/></a>"
      ]
    },
    {
      "cell_type": "code",
      "metadata": {
        "id": "P10uROM_sbU3",
        "colab_type": "code",
        "colab": {}
      },
      "source": [
        "\n",
        "import numpy as np\n",
        "import pandas as pd\n",
        "import matplotlib.pyplot as plt\n",
        "import sklearn\n",
        "\n",
        "from numpy import loadtxt\n",
        "from sklearn.model_selection import train_test_split\n",
        "from sklearn.metrics import accuracy_score\n",
        "from sklearn.preprocessing import StandardScaler,OneHotEncoder    \n",
        "\n",
        "\n",
        "from sklearn.metrics import confusion_matrix, classification_report\n",
        "\n",
        "from keras.utils import to_categorical\n",
        "\n",
        "import torch\n",
        "import torch.nn as nn\n",
        "import torch.optim as optim\n",
        "from torch.utils.data import Dataset, DataLoader\n",
        "\n",
        "from sklearn.preprocessing import StandardScaler"
      ],
      "execution_count": 48,
      "outputs": []
    },
    {
      "cell_type": "code",
      "metadata": {
        "id": "Ydjz7mefTMRI",
        "colab_type": "code",
        "colab": {}
      },
      "source": [
        "df = pd.read_csv('/content/DCP_leak_classification_train_data.csv',index_col=False)"
      ],
      "execution_count": 49,
      "outputs": []
    },
    {
      "cell_type": "code",
      "metadata": {
        "id": "KsBOls6CUOQc",
        "colab_type": "code",
        "colab": {
          "base_uri": "https://localhost:8080/",
          "height": 411
        },
        "outputId": "7ea004fb-03a8-45c8-e933-0f450c811f44"
      },
      "source": [
        "df.head()"
      ],
      "execution_count": 50,
      "outputs": [
        {
          "output_type": "execute_result",
          "data": {
            "text/html": [
              "<div>\n",
              "<style scoped>\n",
              "    .dataframe tbody tr th:only-of-type {\n",
              "        vertical-align: middle;\n",
              "    }\n",
              "\n",
              "    .dataframe tbody tr th {\n",
              "        vertical-align: top;\n",
              "    }\n",
              "\n",
              "    .dataframe thead th {\n",
              "        text-align: right;\n",
              "    }\n",
              "</style>\n",
              "<table border=\"1\" class=\"dataframe\">\n",
              "  <thead>\n",
              "    <tr style=\"text-align: right;\">\n",
              "      <th></th>\n",
              "      <th>Unnamed: 0</th>\n",
              "      <th>Unnamed: 0.1</th>\n",
              "      <th>time</th>\n",
              "      <th>cyl</th>\n",
              "      <th>s_temp_crank</th>\n",
              "      <th>d_temp_crank</th>\n",
              "      <th>s_pressure_crank</th>\n",
              "      <th>d_pressure_crank</th>\n",
              "      <th>rpm_crank</th>\n",
              "      <th>s_temp_mean</th>\n",
              "      <th>d_temp_mean</th>\n",
              "      <th>s_pressure_mean</th>\n",
              "      <th>d_pressure_mean</th>\n",
              "      <th>rpm_mean</th>\n",
              "      <th>Asset</th>\n",
              "      <th>Binary</th>\n",
              "    </tr>\n",
              "  </thead>\n",
              "  <tbody>\n",
              "    <tr>\n",
              "      <th>0</th>\n",
              "      <td>0</td>\n",
              "      <td>0</td>\n",
              "      <td>2019-12-01 00:30:00</td>\n",
              "      <td>1.0</td>\n",
              "      <td>103.113613</td>\n",
              "      <td>216.591245</td>\n",
              "      <td>354.642761</td>\n",
              "      <td>836.740658</td>\n",
              "      <td>1357.93250</td>\n",
              "      <td>103.113613</td>\n",
              "      <td>218.012416</td>\n",
              "      <td>344.238677</td>\n",
              "      <td>820.900548</td>\n",
              "      <td>1357.93250</td>\n",
              "      <td>Ashland_Unit256</td>\n",
              "      <td>0.0</td>\n",
              "    </tr>\n",
              "    <tr>\n",
              "      <th>1</th>\n",
              "      <td>1</td>\n",
              "      <td>1</td>\n",
              "      <td>2019-12-01 01:30:00</td>\n",
              "      <td>1.0</td>\n",
              "      <td>99.965045</td>\n",
              "      <td>214.136948</td>\n",
              "      <td>352.424753</td>\n",
              "      <td>837.714329</td>\n",
              "      <td>1358.24000</td>\n",
              "      <td>99.965045</td>\n",
              "      <td>215.236945</td>\n",
              "      <td>342.992523</td>\n",
              "      <td>822.153967</td>\n",
              "      <td>1358.24000</td>\n",
              "      <td>Ashland_Unit256</td>\n",
              "      <td>0.0</td>\n",
              "    </tr>\n",
              "    <tr>\n",
              "      <th>2</th>\n",
              "      <td>2</td>\n",
              "      <td>2</td>\n",
              "      <td>2019-12-01 02:30:00</td>\n",
              "      <td>1.0</td>\n",
              "      <td>98.503206</td>\n",
              "      <td>213.432090</td>\n",
              "      <td>352.148637</td>\n",
              "      <td>842.562702</td>\n",
              "      <td>1398.28125</td>\n",
              "      <td>98.503206</td>\n",
              "      <td>214.106646</td>\n",
              "      <td>344.690998</td>\n",
              "      <td>829.080473</td>\n",
              "      <td>1398.28125</td>\n",
              "      <td>Ashland_Unit256</td>\n",
              "      <td>0.0</td>\n",
              "    </tr>\n",
              "    <tr>\n",
              "      <th>3</th>\n",
              "      <td>3</td>\n",
              "      <td>3</td>\n",
              "      <td>2019-12-01 03:30:00</td>\n",
              "      <td>1.0</td>\n",
              "      <td>104.620153</td>\n",
              "      <td>220.973225</td>\n",
              "      <td>352.706318</td>\n",
              "      <td>848.715357</td>\n",
              "      <td>1397.87125</td>\n",
              "      <td>104.620153</td>\n",
              "      <td>221.697270</td>\n",
              "      <td>345.283193</td>\n",
              "      <td>835.520144</td>\n",
              "      <td>1397.87125</td>\n",
              "      <td>Ashland_Unit256</td>\n",
              "      <td>0.0</td>\n",
              "    </tr>\n",
              "    <tr>\n",
              "      <th>4</th>\n",
              "      <td>4</td>\n",
              "      <td>4</td>\n",
              "      <td>2019-12-01 04:30:00</td>\n",
              "      <td>1.0</td>\n",
              "      <td>109.567843</td>\n",
              "      <td>227.339240</td>\n",
              "      <td>351.392953</td>\n",
              "      <td>851.224013</td>\n",
              "      <td>1397.31000</td>\n",
              "      <td>109.567843</td>\n",
              "      <td>228.114859</td>\n",
              "      <td>344.060655</td>\n",
              "      <td>838.433890</td>\n",
              "      <td>1397.31000</td>\n",
              "      <td>Ashland_Unit256</td>\n",
              "      <td>0.0</td>\n",
              "    </tr>\n",
              "  </tbody>\n",
              "</table>\n",
              "</div>"
            ],
            "text/plain": [
              "   Unnamed: 0  Unnamed: 0.1  ...            Asset  Binary\n",
              "0           0             0  ...  Ashland_Unit256     0.0\n",
              "1           1             1  ...  Ashland_Unit256     0.0\n",
              "2           2             2  ...  Ashland_Unit256     0.0\n",
              "3           3             3  ...  Ashland_Unit256     0.0\n",
              "4           4             4  ...  Ashland_Unit256     0.0\n",
              "\n",
              "[5 rows x 16 columns]"
            ]
          },
          "metadata": {
            "tags": []
          },
          "execution_count": 50
        }
      ]
    },
    {
      "cell_type": "code",
      "metadata": {
        "id": "A8f00GmlHbTl",
        "colab_type": "code",
        "colab": {}
      },
      "source": [
        "df['s_temp_mean*s_pressure_mean'] = df['s_pressure_mean']*df['s_temp_mean']\n",
        "df['d_temp_mean*d_pressure_mean'] = df['d_pressure_mean']*df['d_temp_mean']"
      ],
      "execution_count": 51,
      "outputs": []
    },
    {
      "cell_type": "code",
      "metadata": {
        "id": "L1A3Lls5m1J_",
        "colab_type": "code",
        "colab": {}
      },
      "source": [
        "df['s_temp_crank*s_pressure_crank'] = df['s_temp_crank']*df['s_pressure_crank']\n",
        "df['d_temp_crank*d_pressure_crank'] = df['d_pressure_crank']*df['d_temp_crank']"
      ],
      "execution_count": 52,
      "outputs": []
    },
    {
      "cell_type": "code",
      "metadata": {
        "id": "_zpttuH-LUhO",
        "colab_type": "code",
        "colab": {
          "base_uri": "https://localhost:8080/",
          "height": 411
        },
        "outputId": "beb667d7-7720-46c3-ab20-3a3acca3d958"
      },
      "source": [
        "df.head()"
      ],
      "execution_count": 53,
      "outputs": [
        {
          "output_type": "execute_result",
          "data": {
            "text/html": [
              "<div>\n",
              "<style scoped>\n",
              "    .dataframe tbody tr th:only-of-type {\n",
              "        vertical-align: middle;\n",
              "    }\n",
              "\n",
              "    .dataframe tbody tr th {\n",
              "        vertical-align: top;\n",
              "    }\n",
              "\n",
              "    .dataframe thead th {\n",
              "        text-align: right;\n",
              "    }\n",
              "</style>\n",
              "<table border=\"1\" class=\"dataframe\">\n",
              "  <thead>\n",
              "    <tr style=\"text-align: right;\">\n",
              "      <th></th>\n",
              "      <th>Unnamed: 0</th>\n",
              "      <th>Unnamed: 0.1</th>\n",
              "      <th>time</th>\n",
              "      <th>cyl</th>\n",
              "      <th>s_temp_crank</th>\n",
              "      <th>d_temp_crank</th>\n",
              "      <th>s_pressure_crank</th>\n",
              "      <th>d_pressure_crank</th>\n",
              "      <th>rpm_crank</th>\n",
              "      <th>s_temp_mean</th>\n",
              "      <th>d_temp_mean</th>\n",
              "      <th>s_pressure_mean</th>\n",
              "      <th>d_pressure_mean</th>\n",
              "      <th>rpm_mean</th>\n",
              "      <th>Asset</th>\n",
              "      <th>Binary</th>\n",
              "      <th>s_temp_mean*s_pressure_mean</th>\n",
              "      <th>d_temp_mean*d_pressure_mean</th>\n",
              "      <th>s_temp_crank*s_pressure_crank</th>\n",
              "      <th>d_temp_crank*d_pressure_crank</th>\n",
              "    </tr>\n",
              "  </thead>\n",
              "  <tbody>\n",
              "    <tr>\n",
              "      <th>0</th>\n",
              "      <td>0</td>\n",
              "      <td>0</td>\n",
              "      <td>2019-12-01 00:30:00</td>\n",
              "      <td>1.0</td>\n",
              "      <td>103.113613</td>\n",
              "      <td>216.591245</td>\n",
              "      <td>354.642761</td>\n",
              "      <td>836.740658</td>\n",
              "      <td>1357.93250</td>\n",
              "      <td>103.113613</td>\n",
              "      <td>218.012416</td>\n",
              "      <td>344.238677</td>\n",
              "      <td>820.900548</td>\n",
              "      <td>1357.93250</td>\n",
              "      <td>Ashland_Unit256</td>\n",
              "      <td>0.0</td>\n",
              "      <td>35495.693656</td>\n",
              "      <td>178966.511725</td>\n",
              "      <td>36568.496381</td>\n",
              "      <td>181230.701138</td>\n",
              "    </tr>\n",
              "    <tr>\n",
              "      <th>1</th>\n",
              "      <td>1</td>\n",
              "      <td>1</td>\n",
              "      <td>2019-12-01 01:30:00</td>\n",
              "      <td>1.0</td>\n",
              "      <td>99.965045</td>\n",
              "      <td>214.136948</td>\n",
              "      <td>352.424753</td>\n",
              "      <td>837.714329</td>\n",
              "      <td>1358.24000</td>\n",
              "      <td>99.965045</td>\n",
              "      <td>215.236945</td>\n",
              "      <td>342.992523</td>\n",
              "      <td>822.153967</td>\n",
              "      <td>1358.24000</td>\n",
              "      <td>Ashland_Unit256</td>\n",
              "      <td>0.0</td>\n",
              "      <td>34287.262878</td>\n",
              "      <td>176957.908115</td>\n",
              "      <td>35230.156167</td>\n",
              "      <td>179385.590149</td>\n",
              "    </tr>\n",
              "    <tr>\n",
              "      <th>2</th>\n",
              "      <td>2</td>\n",
              "      <td>2</td>\n",
              "      <td>2019-12-01 02:30:00</td>\n",
              "      <td>1.0</td>\n",
              "      <td>98.503206</td>\n",
              "      <td>213.432090</td>\n",
              "      <td>352.148637</td>\n",
              "      <td>842.562702</td>\n",
              "      <td>1398.28125</td>\n",
              "      <td>98.503206</td>\n",
              "      <td>214.106646</td>\n",
              "      <td>344.690998</td>\n",
              "      <td>829.080473</td>\n",
              "      <td>1398.28125</td>\n",
              "      <td>Ashland_Unit256</td>\n",
              "      <td>0.0</td>\n",
              "      <td>33953.168178</td>\n",
              "      <td>177511.639310</td>\n",
              "      <td>34687.769611</td>\n",
              "      <td>179829.918400</td>\n",
              "    </tr>\n",
              "    <tr>\n",
              "      <th>3</th>\n",
              "      <td>3</td>\n",
              "      <td>3</td>\n",
              "      <td>2019-12-01 03:30:00</td>\n",
              "      <td>1.0</td>\n",
              "      <td>104.620153</td>\n",
              "      <td>220.973225</td>\n",
              "      <td>352.706318</td>\n",
              "      <td>848.715357</td>\n",
              "      <td>1397.87125</td>\n",
              "      <td>104.620153</td>\n",
              "      <td>221.697270</td>\n",
              "      <td>345.283193</td>\n",
              "      <td>835.520144</td>\n",
              "      <td>1397.87125</td>\n",
              "      <td>Ashland_Unit256</td>\n",
              "      <td>0.0</td>\n",
              "      <td>36123.580593</td>\n",
              "      <td>185232.534887</td>\n",
              "      <td>36900.189112</td>\n",
              "      <td>187543.369582</td>\n",
              "    </tr>\n",
              "    <tr>\n",
              "      <th>4</th>\n",
              "      <td>4</td>\n",
              "      <td>4</td>\n",
              "      <td>2019-12-01 04:30:00</td>\n",
              "      <td>1.0</td>\n",
              "      <td>109.567843</td>\n",
              "      <td>227.339240</td>\n",
              "      <td>351.392953</td>\n",
              "      <td>851.224013</td>\n",
              "      <td>1397.31000</td>\n",
              "      <td>109.567843</td>\n",
              "      <td>228.114859</td>\n",
              "      <td>344.060655</td>\n",
              "      <td>838.433890</td>\n",
              "      <td>1397.31000</td>\n",
              "      <td>Ashland_Unit256</td>\n",
              "      <td>0.0</td>\n",
              "      <td>37697.983703</td>\n",
              "      <td>191259.228686</td>\n",
              "      <td>38501.367766</td>\n",
              "      <td>193516.619885</td>\n",
              "    </tr>\n",
              "  </tbody>\n",
              "</table>\n",
              "</div>"
            ],
            "text/plain": [
              "   Unnamed: 0  ...  d_temp_crank*d_pressure_crank\n",
              "0           0  ...                  181230.701138\n",
              "1           1  ...                  179385.590149\n",
              "2           2  ...                  179829.918400\n",
              "3           3  ...                  187543.369582\n",
              "4           4  ...                  193516.619885\n",
              "\n",
              "[5 rows x 20 columns]"
            ]
          },
          "metadata": {
            "tags": []
          },
          "execution_count": 53
        }
      ]
    },
    {
      "cell_type": "code",
      "metadata": {
        "id": "7BW6XEV1sh09",
        "colab_type": "code",
        "colab": {}
      },
      "source": [
        "# df1 = pd.read_csv('/content/old_normalised_assets-2.csv',index_col=False)\n",
        "# df2 = pd.read_csv('/content/new_normalised_assets-2.csv',index_col=False)"
      ],
      "execution_count": 54,
      "outputs": []
    },
    {
      "cell_type": "code",
      "metadata": {
        "id": "CrIA-UGbTVKa",
        "colab_type": "code",
        "colab": {
          "base_uri": "https://localhost:8080/",
          "height": 136
        },
        "outputId": "bd54b789-7f6c-4344-a0e2-fd77f96c1d8a"
      },
      "source": [
        "df['Asset'].unique()"
      ],
      "execution_count": 55,
      "outputs": [
        {
          "output_type": "execute_result",
          "data": {
            "text/plain": [
              "array(['Ashland_Unit256', 'Center station_C2', 'Crossbar_Unit1',\n",
              "       'El Dorado_Unit', 'Goliad_Unit1100', 'HobitLP_Unit102',\n",
              "       'Hobit_Unit2', 'Katy_Unit1116', 'Katy_Unit1117', 'LOHT_North',\n",
              "       'La Porte_K11A', 'Lightning_Unit2 (2)(1).csv', 'RJ_Unit1(1).csv',\n",
              "       'Lightning_Unit4', 'Reagon_Unit3', 'Saltlake_K71010B',\n",
              "       'Strawberry_Unit1', 'Reagon_Unit6', 'West Turkey_Unit2'],\n",
              "      dtype=object)"
            ]
          },
          "metadata": {
            "tags": []
          },
          "execution_count": 55
        }
      ]
    },
    {
      "cell_type": "code",
      "metadata": {
        "id": "5MV3Kc15Tw9n",
        "colab_type": "code",
        "colab": {}
      },
      "source": [
        "# 'Clark county_6', 'RJ booster_1', 'Strawberry_3.csv'"
      ],
      "execution_count": 56,
      "outputs": []
    },
    {
      "cell_type": "code",
      "metadata": {
        "id": "V46jsA_6Tsq7",
        "colab_type": "code",
        "colab": {}
      },
      "source": [
        "df2 = df.loc[(df.Asset == 'Clark county_6') | (df.Asset == 'RJ booster_1') | (df.Asset == 'Strawberry_3')|(df.Asset == 'Lightning_Unit2')]"
      ],
      "execution_count": 57,
      "outputs": []
    },
    {
      "cell_type": "code",
      "metadata": {
        "id": "gliOBdPxahcv",
        "colab_type": "code",
        "colab": {
          "base_uri": "https://localhost:8080/",
          "height": 34
        },
        "outputId": "abbe3794-616e-4121-c841-04b5cc79806e"
      },
      "source": [
        "df2.shape"
      ],
      "execution_count": 58,
      "outputs": [
        {
          "output_type": "execute_result",
          "data": {
            "text/plain": [
              "(0, 20)"
            ]
          },
          "metadata": {
            "tags": []
          },
          "execution_count": 58
        }
      ]
    },
    {
      "cell_type": "code",
      "metadata": {
        "id": "rH9gxKfBa0p_",
        "colab_type": "code",
        "colab": {
          "base_uri": "https://localhost:8080/",
          "height": 34
        },
        "outputId": "8e416779-864c-4252-af28-c2046335026f"
      },
      "source": [
        "df2[\"Binary\"].unique()"
      ],
      "execution_count": 59,
      "outputs": [
        {
          "output_type": "execute_result",
          "data": {
            "text/plain": [
              "array([], dtype=float64)"
            ]
          },
          "metadata": {
            "tags": []
          },
          "execution_count": 59
        }
      ]
    },
    {
      "cell_type": "code",
      "metadata": {
        "id": "tCoxexG3USm4",
        "colab_type": "code",
        "colab": {}
      },
      "source": [
        "#  \n",
        "#        \n",
        "#        "
      ],
      "execution_count": 60,
      "outputs": []
    },
    {
      "cell_type": "code",
      "metadata": {
        "id": "Sd6OT6pOTskR",
        "colab_type": "code",
        "colab": {}
      },
      "source": [
        "df1 = df.loc[(df.Asset == 'West_Turkey_Unit2') | (df.Asset == 'Cross bar_Unit1') | (df.Asset == 'Reagan_1_Unit6') | (df.Asset == 'Reagan_1_Unit3')|\n",
        "        (df.Asset == 'Hobit_Unit2')|(df.Asset == 'Katy_Unit1116')|(df.Asset == 'Katy_Unit1117')|\n",
        "       (df.Asset == 'HobitLP_Unit102')|(df.Asset == 'Goliad_Unit1100')|(df.Asset == 'Lightning_Unit4')|(df.Asset == 'Ashland_Unit256') | \n",
        "       (df.Asset == 'Center station_C2') | (df.Asset == 'El Dorado_Unit J2502') | (df.Asset == 'Saltlake_K71010B')]"
      ],
      "execution_count": 61,
      "outputs": []
    },
    {
      "cell_type": "code",
      "metadata": {
        "id": "ySz7tAnswqa8",
        "colab_type": "code",
        "colab": {
          "base_uri": "https://localhost:8080/",
          "height": 411
        },
        "outputId": "7e52fbcf-e561-4314-b5d0-50bd47292da1"
      },
      "source": [
        "df1.head()"
      ],
      "execution_count": 62,
      "outputs": [
        {
          "output_type": "execute_result",
          "data": {
            "text/html": [
              "<div>\n",
              "<style scoped>\n",
              "    .dataframe tbody tr th:only-of-type {\n",
              "        vertical-align: middle;\n",
              "    }\n",
              "\n",
              "    .dataframe tbody tr th {\n",
              "        vertical-align: top;\n",
              "    }\n",
              "\n",
              "    .dataframe thead th {\n",
              "        text-align: right;\n",
              "    }\n",
              "</style>\n",
              "<table border=\"1\" class=\"dataframe\">\n",
              "  <thead>\n",
              "    <tr style=\"text-align: right;\">\n",
              "      <th></th>\n",
              "      <th>Unnamed: 0</th>\n",
              "      <th>Unnamed: 0.1</th>\n",
              "      <th>time</th>\n",
              "      <th>cyl</th>\n",
              "      <th>s_temp_crank</th>\n",
              "      <th>d_temp_crank</th>\n",
              "      <th>s_pressure_crank</th>\n",
              "      <th>d_pressure_crank</th>\n",
              "      <th>rpm_crank</th>\n",
              "      <th>s_temp_mean</th>\n",
              "      <th>d_temp_mean</th>\n",
              "      <th>s_pressure_mean</th>\n",
              "      <th>d_pressure_mean</th>\n",
              "      <th>rpm_mean</th>\n",
              "      <th>Asset</th>\n",
              "      <th>Binary</th>\n",
              "      <th>s_temp_mean*s_pressure_mean</th>\n",
              "      <th>d_temp_mean*d_pressure_mean</th>\n",
              "      <th>s_temp_crank*s_pressure_crank</th>\n",
              "      <th>d_temp_crank*d_pressure_crank</th>\n",
              "    </tr>\n",
              "  </thead>\n",
              "  <tbody>\n",
              "    <tr>\n",
              "      <th>0</th>\n",
              "      <td>0</td>\n",
              "      <td>0</td>\n",
              "      <td>2019-12-01 00:30:00</td>\n",
              "      <td>1.0</td>\n",
              "      <td>103.113613</td>\n",
              "      <td>216.591245</td>\n",
              "      <td>354.642761</td>\n",
              "      <td>836.740658</td>\n",
              "      <td>1357.93250</td>\n",
              "      <td>103.113613</td>\n",
              "      <td>218.012416</td>\n",
              "      <td>344.238677</td>\n",
              "      <td>820.900548</td>\n",
              "      <td>1357.93250</td>\n",
              "      <td>Ashland_Unit256</td>\n",
              "      <td>0.0</td>\n",
              "      <td>35495.693656</td>\n",
              "      <td>178966.511725</td>\n",
              "      <td>36568.496381</td>\n",
              "      <td>181230.701138</td>\n",
              "    </tr>\n",
              "    <tr>\n",
              "      <th>1</th>\n",
              "      <td>1</td>\n",
              "      <td>1</td>\n",
              "      <td>2019-12-01 01:30:00</td>\n",
              "      <td>1.0</td>\n",
              "      <td>99.965045</td>\n",
              "      <td>214.136948</td>\n",
              "      <td>352.424753</td>\n",
              "      <td>837.714329</td>\n",
              "      <td>1358.24000</td>\n",
              "      <td>99.965045</td>\n",
              "      <td>215.236945</td>\n",
              "      <td>342.992523</td>\n",
              "      <td>822.153967</td>\n",
              "      <td>1358.24000</td>\n",
              "      <td>Ashland_Unit256</td>\n",
              "      <td>0.0</td>\n",
              "      <td>34287.262878</td>\n",
              "      <td>176957.908115</td>\n",
              "      <td>35230.156167</td>\n",
              "      <td>179385.590149</td>\n",
              "    </tr>\n",
              "    <tr>\n",
              "      <th>2</th>\n",
              "      <td>2</td>\n",
              "      <td>2</td>\n",
              "      <td>2019-12-01 02:30:00</td>\n",
              "      <td>1.0</td>\n",
              "      <td>98.503206</td>\n",
              "      <td>213.432090</td>\n",
              "      <td>352.148637</td>\n",
              "      <td>842.562702</td>\n",
              "      <td>1398.28125</td>\n",
              "      <td>98.503206</td>\n",
              "      <td>214.106646</td>\n",
              "      <td>344.690998</td>\n",
              "      <td>829.080473</td>\n",
              "      <td>1398.28125</td>\n",
              "      <td>Ashland_Unit256</td>\n",
              "      <td>0.0</td>\n",
              "      <td>33953.168178</td>\n",
              "      <td>177511.639310</td>\n",
              "      <td>34687.769611</td>\n",
              "      <td>179829.918400</td>\n",
              "    </tr>\n",
              "    <tr>\n",
              "      <th>3</th>\n",
              "      <td>3</td>\n",
              "      <td>3</td>\n",
              "      <td>2019-12-01 03:30:00</td>\n",
              "      <td>1.0</td>\n",
              "      <td>104.620153</td>\n",
              "      <td>220.973225</td>\n",
              "      <td>352.706318</td>\n",
              "      <td>848.715357</td>\n",
              "      <td>1397.87125</td>\n",
              "      <td>104.620153</td>\n",
              "      <td>221.697270</td>\n",
              "      <td>345.283193</td>\n",
              "      <td>835.520144</td>\n",
              "      <td>1397.87125</td>\n",
              "      <td>Ashland_Unit256</td>\n",
              "      <td>0.0</td>\n",
              "      <td>36123.580593</td>\n",
              "      <td>185232.534887</td>\n",
              "      <td>36900.189112</td>\n",
              "      <td>187543.369582</td>\n",
              "    </tr>\n",
              "    <tr>\n",
              "      <th>4</th>\n",
              "      <td>4</td>\n",
              "      <td>4</td>\n",
              "      <td>2019-12-01 04:30:00</td>\n",
              "      <td>1.0</td>\n",
              "      <td>109.567843</td>\n",
              "      <td>227.339240</td>\n",
              "      <td>351.392953</td>\n",
              "      <td>851.224013</td>\n",
              "      <td>1397.31000</td>\n",
              "      <td>109.567843</td>\n",
              "      <td>228.114859</td>\n",
              "      <td>344.060655</td>\n",
              "      <td>838.433890</td>\n",
              "      <td>1397.31000</td>\n",
              "      <td>Ashland_Unit256</td>\n",
              "      <td>0.0</td>\n",
              "      <td>37697.983703</td>\n",
              "      <td>191259.228686</td>\n",
              "      <td>38501.367766</td>\n",
              "      <td>193516.619885</td>\n",
              "    </tr>\n",
              "  </tbody>\n",
              "</table>\n",
              "</div>"
            ],
            "text/plain": [
              "   Unnamed: 0  ...  d_temp_crank*d_pressure_crank\n",
              "0           0  ...                  181230.701138\n",
              "1           1  ...                  179385.590149\n",
              "2           2  ...                  179829.918400\n",
              "3           3  ...                  187543.369582\n",
              "4           4  ...                  193516.619885\n",
              "\n",
              "[5 rows x 20 columns]"
            ]
          },
          "metadata": {
            "tags": []
          },
          "execution_count": 62
        }
      ]
    },
    {
      "cell_type": "code",
      "metadata": {
        "id": "TdsRIaE8w7kC",
        "colab_type": "code",
        "colab": {
          "base_uri": "https://localhost:8080/",
          "height": 136
        },
        "outputId": "6b22ea48-5700-4863-dc76-87c582bf3faa"
      },
      "source": [
        "df1.columns"
      ],
      "execution_count": 63,
      "outputs": [
        {
          "output_type": "execute_result",
          "data": {
            "text/plain": [
              "Index(['Unnamed: 0', 'Unnamed: 0.1', 'time', 'cyl', 's_temp_crank',\n",
              "       'd_temp_crank', 's_pressure_crank', 'd_pressure_crank', 'rpm_crank',\n",
              "       's_temp_mean', 'd_temp_mean', 's_pressure_mean', 'd_pressure_mean',\n",
              "       'rpm_mean', 'Asset', 'Binary', 's_temp_mean*s_pressure_mean',\n",
              "       'd_temp_mean*d_pressure_mean', 's_temp_crank*s_pressure_crank',\n",
              "       'd_temp_crank*d_pressure_crank'],\n",
              "      dtype='object')"
            ]
          },
          "metadata": {
            "tags": []
          },
          "execution_count": 63
        }
      ]
    },
    {
      "cell_type": "code",
      "metadata": {
        "id": "nBrWvkAjwx6S",
        "colab_type": "code",
        "colab": {
          "base_uri": "https://localhost:8080/",
          "height": 139
        },
        "outputId": "70acaaa7-598f-41fa-be1c-ffda1fceac7a"
      },
      "source": [
        "df1['Binary'] = df1['Binary'].fillna(0)\n",
        "#df1['multi_class'] = df1['multi_class'].fillna(0)"
      ],
      "execution_count": 64,
      "outputs": [
        {
          "output_type": "stream",
          "text": [
            "/usr/local/lib/python3.6/dist-packages/ipykernel_launcher.py:1: SettingWithCopyWarning: \n",
            "A value is trying to be set on a copy of a slice from a DataFrame.\n",
            "Try using .loc[row_indexer,col_indexer] = value instead\n",
            "\n",
            "See the caveats in the documentation: https://pandas.pydata.org/pandas-docs/stable/user_guide/indexing.html#returning-a-view-versus-a-copy\n",
            "  \"\"\"Entry point for launching an IPython kernel.\n"
          ],
          "name": "stderr"
        }
      ]
    },
    {
      "cell_type": "code",
      "metadata": {
        "id": "G3TrxRtjxE3f",
        "colab_type": "code",
        "colab": {
          "base_uri": "https://localhost:8080/",
          "height": 411
        },
        "outputId": "facc1082-e3f7-403f-eef8-d19b2274e661"
      },
      "source": [
        "df1.head()"
      ],
      "execution_count": 65,
      "outputs": [
        {
          "output_type": "execute_result",
          "data": {
            "text/html": [
              "<div>\n",
              "<style scoped>\n",
              "    .dataframe tbody tr th:only-of-type {\n",
              "        vertical-align: middle;\n",
              "    }\n",
              "\n",
              "    .dataframe tbody tr th {\n",
              "        vertical-align: top;\n",
              "    }\n",
              "\n",
              "    .dataframe thead th {\n",
              "        text-align: right;\n",
              "    }\n",
              "</style>\n",
              "<table border=\"1\" class=\"dataframe\">\n",
              "  <thead>\n",
              "    <tr style=\"text-align: right;\">\n",
              "      <th></th>\n",
              "      <th>Unnamed: 0</th>\n",
              "      <th>Unnamed: 0.1</th>\n",
              "      <th>time</th>\n",
              "      <th>cyl</th>\n",
              "      <th>s_temp_crank</th>\n",
              "      <th>d_temp_crank</th>\n",
              "      <th>s_pressure_crank</th>\n",
              "      <th>d_pressure_crank</th>\n",
              "      <th>rpm_crank</th>\n",
              "      <th>s_temp_mean</th>\n",
              "      <th>d_temp_mean</th>\n",
              "      <th>s_pressure_mean</th>\n",
              "      <th>d_pressure_mean</th>\n",
              "      <th>rpm_mean</th>\n",
              "      <th>Asset</th>\n",
              "      <th>Binary</th>\n",
              "      <th>s_temp_mean*s_pressure_mean</th>\n",
              "      <th>d_temp_mean*d_pressure_mean</th>\n",
              "      <th>s_temp_crank*s_pressure_crank</th>\n",
              "      <th>d_temp_crank*d_pressure_crank</th>\n",
              "    </tr>\n",
              "  </thead>\n",
              "  <tbody>\n",
              "    <tr>\n",
              "      <th>0</th>\n",
              "      <td>0</td>\n",
              "      <td>0</td>\n",
              "      <td>2019-12-01 00:30:00</td>\n",
              "      <td>1.0</td>\n",
              "      <td>103.113613</td>\n",
              "      <td>216.591245</td>\n",
              "      <td>354.642761</td>\n",
              "      <td>836.740658</td>\n",
              "      <td>1357.93250</td>\n",
              "      <td>103.113613</td>\n",
              "      <td>218.012416</td>\n",
              "      <td>344.238677</td>\n",
              "      <td>820.900548</td>\n",
              "      <td>1357.93250</td>\n",
              "      <td>Ashland_Unit256</td>\n",
              "      <td>0.0</td>\n",
              "      <td>35495.693656</td>\n",
              "      <td>178966.511725</td>\n",
              "      <td>36568.496381</td>\n",
              "      <td>181230.701138</td>\n",
              "    </tr>\n",
              "    <tr>\n",
              "      <th>1</th>\n",
              "      <td>1</td>\n",
              "      <td>1</td>\n",
              "      <td>2019-12-01 01:30:00</td>\n",
              "      <td>1.0</td>\n",
              "      <td>99.965045</td>\n",
              "      <td>214.136948</td>\n",
              "      <td>352.424753</td>\n",
              "      <td>837.714329</td>\n",
              "      <td>1358.24000</td>\n",
              "      <td>99.965045</td>\n",
              "      <td>215.236945</td>\n",
              "      <td>342.992523</td>\n",
              "      <td>822.153967</td>\n",
              "      <td>1358.24000</td>\n",
              "      <td>Ashland_Unit256</td>\n",
              "      <td>0.0</td>\n",
              "      <td>34287.262878</td>\n",
              "      <td>176957.908115</td>\n",
              "      <td>35230.156167</td>\n",
              "      <td>179385.590149</td>\n",
              "    </tr>\n",
              "    <tr>\n",
              "      <th>2</th>\n",
              "      <td>2</td>\n",
              "      <td>2</td>\n",
              "      <td>2019-12-01 02:30:00</td>\n",
              "      <td>1.0</td>\n",
              "      <td>98.503206</td>\n",
              "      <td>213.432090</td>\n",
              "      <td>352.148637</td>\n",
              "      <td>842.562702</td>\n",
              "      <td>1398.28125</td>\n",
              "      <td>98.503206</td>\n",
              "      <td>214.106646</td>\n",
              "      <td>344.690998</td>\n",
              "      <td>829.080473</td>\n",
              "      <td>1398.28125</td>\n",
              "      <td>Ashland_Unit256</td>\n",
              "      <td>0.0</td>\n",
              "      <td>33953.168178</td>\n",
              "      <td>177511.639310</td>\n",
              "      <td>34687.769611</td>\n",
              "      <td>179829.918400</td>\n",
              "    </tr>\n",
              "    <tr>\n",
              "      <th>3</th>\n",
              "      <td>3</td>\n",
              "      <td>3</td>\n",
              "      <td>2019-12-01 03:30:00</td>\n",
              "      <td>1.0</td>\n",
              "      <td>104.620153</td>\n",
              "      <td>220.973225</td>\n",
              "      <td>352.706318</td>\n",
              "      <td>848.715357</td>\n",
              "      <td>1397.87125</td>\n",
              "      <td>104.620153</td>\n",
              "      <td>221.697270</td>\n",
              "      <td>345.283193</td>\n",
              "      <td>835.520144</td>\n",
              "      <td>1397.87125</td>\n",
              "      <td>Ashland_Unit256</td>\n",
              "      <td>0.0</td>\n",
              "      <td>36123.580593</td>\n",
              "      <td>185232.534887</td>\n",
              "      <td>36900.189112</td>\n",
              "      <td>187543.369582</td>\n",
              "    </tr>\n",
              "    <tr>\n",
              "      <th>4</th>\n",
              "      <td>4</td>\n",
              "      <td>4</td>\n",
              "      <td>2019-12-01 04:30:00</td>\n",
              "      <td>1.0</td>\n",
              "      <td>109.567843</td>\n",
              "      <td>227.339240</td>\n",
              "      <td>351.392953</td>\n",
              "      <td>851.224013</td>\n",
              "      <td>1397.31000</td>\n",
              "      <td>109.567843</td>\n",
              "      <td>228.114859</td>\n",
              "      <td>344.060655</td>\n",
              "      <td>838.433890</td>\n",
              "      <td>1397.31000</td>\n",
              "      <td>Ashland_Unit256</td>\n",
              "      <td>0.0</td>\n",
              "      <td>37697.983703</td>\n",
              "      <td>191259.228686</td>\n",
              "      <td>38501.367766</td>\n",
              "      <td>193516.619885</td>\n",
              "    </tr>\n",
              "  </tbody>\n",
              "</table>\n",
              "</div>"
            ],
            "text/plain": [
              "   Unnamed: 0  ...  d_temp_crank*d_pressure_crank\n",
              "0           0  ...                  181230.701138\n",
              "1           1  ...                  179385.590149\n",
              "2           2  ...                  179829.918400\n",
              "3           3  ...                  187543.369582\n",
              "4           4  ...                  193516.619885\n",
              "\n",
              "[5 rows x 20 columns]"
            ]
          },
          "metadata": {
            "tags": []
          },
          "execution_count": 65
        }
      ]
    },
    {
      "cell_type": "code",
      "metadata": {
        "id": "rJlXj7AOtvSl",
        "colab_type": "code",
        "colab": {
          "base_uri": "https://localhost:8080/",
          "height": 34
        },
        "outputId": "f8197c47-64d9-46f2-fb09-c7533decc4fe"
      },
      "source": [
        "df1.shape"
      ],
      "execution_count": 66,
      "outputs": [
        {
          "output_type": "execute_result",
          "data": {
            "text/plain": [
              "(95569, 20)"
            ]
          },
          "metadata": {
            "tags": []
          },
          "execution_count": 66
        }
      ]
    },
    {
      "cell_type": "code",
      "metadata": {
        "id": "zuozQPwtzzkn",
        "colab_type": "code",
        "colab": {
          "base_uri": "https://localhost:8080/",
          "height": 136
        },
        "outputId": "456b89b8-f51b-4388-e5c5-9944ea9286d6"
      },
      "source": [
        "df1.columns"
      ],
      "execution_count": 67,
      "outputs": [
        {
          "output_type": "execute_result",
          "data": {
            "text/plain": [
              "Index(['Unnamed: 0', 'Unnamed: 0.1', 'time', 'cyl', 's_temp_crank',\n",
              "       'd_temp_crank', 's_pressure_crank', 'd_pressure_crank', 'rpm_crank',\n",
              "       's_temp_mean', 'd_temp_mean', 's_pressure_mean', 'd_pressure_mean',\n",
              "       'rpm_mean', 'Asset', 'Binary', 's_temp_mean*s_pressure_mean',\n",
              "       'd_temp_mean*d_pressure_mean', 's_temp_crank*s_pressure_crank',\n",
              "       'd_temp_crank*d_pressure_crank'],\n",
              "      dtype='object')"
            ]
          },
          "metadata": {
            "tags": []
          },
          "execution_count": 67
        }
      ]
    },
    {
      "cell_type": "code",
      "metadata": {
        "id": "C_FhJ9ekCX79",
        "colab_type": "code",
        "colab": {}
      },
      "source": [
        "X_columns = [ 'cyl', 's_temp_crank', 'd_temp_crank', 's_pressure_crank',\\\n",
        "       'd_pressure_crank', 'rpm_crank', 's_temp_mean', 'd_temp_mean',\\\n",
        "       's_pressure_mean', 'd_pressure_mean','s_temp_mean*s_pressure_mean','d_temp_mean*d_pressure_mean', 'rpm_mean']"
      ],
      "execution_count": 68,
      "outputs": []
    },
    {
      "cell_type": "code",
      "metadata": {
        "id": "noBsBx2QzZf0",
        "colab_type": "code",
        "colab": {
          "base_uri": "https://localhost:8080/",
          "height": 34
        },
        "outputId": "edb6aecd-0365-4715-8570-7cd2f46756e6"
      },
      "source": [
        "len(X_columns)"
      ],
      "execution_count": 69,
      "outputs": [
        {
          "output_type": "execute_result",
          "data": {
            "text/plain": [
              "13"
            ]
          },
          "metadata": {
            "tags": []
          },
          "execution_count": 69
        }
      ]
    },
    {
      "cell_type": "code",
      "metadata": {
        "id": "vzRQrtp3xKTL",
        "colab_type": "code",
        "colab": {}
      },
      "source": [
        "X = df1[X_columns]"
      ],
      "execution_count": 70,
      "outputs": []
    },
    {
      "cell_type": "code",
      "metadata": {
        "id": "1a92LSVIsCgl",
        "colab_type": "code",
        "colab": {
          "base_uri": "https://localhost:8080/",
          "height": 34
        },
        "outputId": "272574f7-1be0-492c-882a-c95a3d35c68a"
      },
      "source": [
        "X.shape"
      ],
      "execution_count": 71,
      "outputs": [
        {
          "output_type": "execute_result",
          "data": {
            "text/plain": [
              "(95569, 13)"
            ]
          },
          "metadata": {
            "tags": []
          },
          "execution_count": 71
        }
      ]
    },
    {
      "cell_type": "markdown",
      "metadata": {
        "id": "X76N5os4_x5r",
        "colab_type": "text"
      },
      "source": [
        "# build  with mean"
      ]
    },
    {
      "cell_type": "code",
      "metadata": {
        "id": "41ZpjzWqDeIW",
        "colab_type": "code",
        "colab": {
          "base_uri": "https://localhost:8080/",
          "height": 439
        },
        "outputId": "c0a7c46a-afbb-4c65-ddae-c8b0eae2d5f0"
      },
      "source": [
        "X"
      ],
      "execution_count": 72,
      "outputs": [
        {
          "output_type": "execute_result",
          "data": {
            "text/html": [
              "<div>\n",
              "<style scoped>\n",
              "    .dataframe tbody tr th:only-of-type {\n",
              "        vertical-align: middle;\n",
              "    }\n",
              "\n",
              "    .dataframe tbody tr th {\n",
              "        vertical-align: top;\n",
              "    }\n",
              "\n",
              "    .dataframe thead th {\n",
              "        text-align: right;\n",
              "    }\n",
              "</style>\n",
              "<table border=\"1\" class=\"dataframe\">\n",
              "  <thead>\n",
              "    <tr style=\"text-align: right;\">\n",
              "      <th></th>\n",
              "      <th>cyl</th>\n",
              "      <th>s_temp_crank</th>\n",
              "      <th>d_temp_crank</th>\n",
              "      <th>s_pressure_crank</th>\n",
              "      <th>d_pressure_crank</th>\n",
              "      <th>rpm_crank</th>\n",
              "      <th>s_temp_mean</th>\n",
              "      <th>d_temp_mean</th>\n",
              "      <th>s_pressure_mean</th>\n",
              "      <th>d_pressure_mean</th>\n",
              "      <th>s_temp_mean*s_pressure_mean</th>\n",
              "      <th>d_temp_mean*d_pressure_mean</th>\n",
              "      <th>rpm_mean</th>\n",
              "    </tr>\n",
              "  </thead>\n",
              "  <tbody>\n",
              "    <tr>\n",
              "      <th>0</th>\n",
              "      <td>1.0</td>\n",
              "      <td>103.113613</td>\n",
              "      <td>216.591245</td>\n",
              "      <td>354.642761</td>\n",
              "      <td>836.740658</td>\n",
              "      <td>1357.93250</td>\n",
              "      <td>103.113613</td>\n",
              "      <td>218.012416</td>\n",
              "      <td>344.238677</td>\n",
              "      <td>820.900548</td>\n",
              "      <td>35495.693656</td>\n",
              "      <td>178966.511725</td>\n",
              "      <td>1357.93250</td>\n",
              "    </tr>\n",
              "    <tr>\n",
              "      <th>1</th>\n",
              "      <td>1.0</td>\n",
              "      <td>99.965045</td>\n",
              "      <td>214.136948</td>\n",
              "      <td>352.424753</td>\n",
              "      <td>837.714329</td>\n",
              "      <td>1358.24000</td>\n",
              "      <td>99.965045</td>\n",
              "      <td>215.236945</td>\n",
              "      <td>342.992523</td>\n",
              "      <td>822.153967</td>\n",
              "      <td>34287.262878</td>\n",
              "      <td>176957.908115</td>\n",
              "      <td>1358.24000</td>\n",
              "    </tr>\n",
              "    <tr>\n",
              "      <th>2</th>\n",
              "      <td>1.0</td>\n",
              "      <td>98.503206</td>\n",
              "      <td>213.432090</td>\n",
              "      <td>352.148637</td>\n",
              "      <td>842.562702</td>\n",
              "      <td>1398.28125</td>\n",
              "      <td>98.503206</td>\n",
              "      <td>214.106646</td>\n",
              "      <td>344.690998</td>\n",
              "      <td>829.080473</td>\n",
              "      <td>33953.168178</td>\n",
              "      <td>177511.639310</td>\n",
              "      <td>1398.28125</td>\n",
              "    </tr>\n",
              "    <tr>\n",
              "      <th>3</th>\n",
              "      <td>1.0</td>\n",
              "      <td>104.620153</td>\n",
              "      <td>220.973225</td>\n",
              "      <td>352.706318</td>\n",
              "      <td>848.715357</td>\n",
              "      <td>1397.87125</td>\n",
              "      <td>104.620153</td>\n",
              "      <td>221.697270</td>\n",
              "      <td>345.283193</td>\n",
              "      <td>835.520144</td>\n",
              "      <td>36123.580593</td>\n",
              "      <td>185232.534887</td>\n",
              "      <td>1397.87125</td>\n",
              "    </tr>\n",
              "    <tr>\n",
              "      <th>4</th>\n",
              "      <td>1.0</td>\n",
              "      <td>109.567843</td>\n",
              "      <td>227.339240</td>\n",
              "      <td>351.392953</td>\n",
              "      <td>851.224013</td>\n",
              "      <td>1397.31000</td>\n",
              "      <td>109.567843</td>\n",
              "      <td>228.114859</td>\n",
              "      <td>344.060655</td>\n",
              "      <td>838.433890</td>\n",
              "      <td>37697.983703</td>\n",
              "      <td>191259.228686</td>\n",
              "      <td>1397.31000</td>\n",
              "    </tr>\n",
              "    <tr>\n",
              "      <th>...</th>\n",
              "      <td>...</td>\n",
              "      <td>...</td>\n",
              "      <td>...</td>\n",
              "      <td>...</td>\n",
              "      <td>...</td>\n",
              "      <td>...</td>\n",
              "      <td>...</td>\n",
              "      <td>...</td>\n",
              "      <td>...</td>\n",
              "      <td>...</td>\n",
              "      <td>...</td>\n",
              "      <td>...</td>\n",
              "      <td>...</td>\n",
              "    </tr>\n",
              "    <tr>\n",
              "      <th>117803</th>\n",
              "      <td>2.0</td>\n",
              "      <td>146.551041</td>\n",
              "      <td>260.017853</td>\n",
              "      <td>883.423667</td>\n",
              "      <td>1783.572442</td>\n",
              "      <td>356.84550</td>\n",
              "      <td>146.551041</td>\n",
              "      <td>260.017853</td>\n",
              "      <td>876.475395</td>\n",
              "      <td>1783.204623</td>\n",
              "      <td>128448.381898</td>\n",
              "      <td>463665.037757</td>\n",
              "      <td>356.84550</td>\n",
              "    </tr>\n",
              "    <tr>\n",
              "      <th>117804</th>\n",
              "      <td>2.0</td>\n",
              "      <td>147.870794</td>\n",
              "      <td>260.943809</td>\n",
              "      <td>882.021744</td>\n",
              "      <td>1782.027466</td>\n",
              "      <td>356.84550</td>\n",
              "      <td>147.870794</td>\n",
              "      <td>260.943809</td>\n",
              "      <td>876.575532</td>\n",
              "      <td>1782.360609</td>\n",
              "      <td>129619.920145</td>\n",
              "      <td>465095.965660</td>\n",
              "      <td>356.84550</td>\n",
              "    </tr>\n",
              "    <tr>\n",
              "      <th>117805</th>\n",
              "      <td>2.0</td>\n",
              "      <td>148.115587</td>\n",
              "      <td>261.454681</td>\n",
              "      <td>881.335088</td>\n",
              "      <td>1778.050584</td>\n",
              "      <td>356.68650</td>\n",
              "      <td>148.115587</td>\n",
              "      <td>261.454681</td>\n",
              "      <td>875.617075</td>\n",
              "      <td>1777.167773</td>\n",
              "      <td>129692.537108</td>\n",
              "      <td>464648.832635</td>\n",
              "      <td>356.68650</td>\n",
              "    </tr>\n",
              "    <tr>\n",
              "      <th>117806</th>\n",
              "      <td>2.0</td>\n",
              "      <td>148.637102</td>\n",
              "      <td>261.667544</td>\n",
              "      <td>880.619821</td>\n",
              "      <td>1777.020600</td>\n",
              "      <td>356.72875</td>\n",
              "      <td>148.637102</td>\n",
              "      <td>261.667544</td>\n",
              "      <td>876.489700</td>\n",
              "      <td>1776.581254</td>\n",
              "      <td>130278.889238</td>\n",
              "      <td>464873.653634</td>\n",
              "      <td>356.72875</td>\n",
              "    </tr>\n",
              "    <tr>\n",
              "      <th>117807</th>\n",
              "      <td>2.0</td>\n",
              "      <td>149.116045</td>\n",
              "      <td>262.966011</td>\n",
              "      <td>882.965896</td>\n",
              "      <td>1780.110552</td>\n",
              "      <td>356.76100</td>\n",
              "      <td>149.116045</td>\n",
              "      <td>262.966011</td>\n",
              "      <td>878.263561</td>\n",
              "      <td>1780.171893</td>\n",
              "      <td>130963.188630</td>\n",
              "      <td>468124.700726</td>\n",
              "      <td>356.76100</td>\n",
              "    </tr>\n",
              "  </tbody>\n",
              "</table>\n",
              "<p>95569 rows × 13 columns</p>\n",
              "</div>"
            ],
            "text/plain": [
              "        cyl  s_temp_crank  ...  d_temp_mean*d_pressure_mean    rpm_mean\n",
              "0       1.0    103.113613  ...                178966.511725  1357.93250\n",
              "1       1.0     99.965045  ...                176957.908115  1358.24000\n",
              "2       1.0     98.503206  ...                177511.639310  1398.28125\n",
              "3       1.0    104.620153  ...                185232.534887  1397.87125\n",
              "4       1.0    109.567843  ...                191259.228686  1397.31000\n",
              "...     ...           ...  ...                          ...         ...\n",
              "117803  2.0    146.551041  ...                463665.037757   356.84550\n",
              "117804  2.0    147.870794  ...                465095.965660   356.84550\n",
              "117805  2.0    148.115587  ...                464648.832635   356.68650\n",
              "117806  2.0    148.637102  ...                464873.653634   356.72875\n",
              "117807  2.0    149.116045  ...                468124.700726   356.76100\n",
              "\n",
              "[95569 rows x 13 columns]"
            ]
          },
          "metadata": {
            "tags": []
          },
          "execution_count": 72
        }
      ]
    },
    {
      "cell_type": "code",
      "metadata": {
        "id": "osDrTPHBDgws",
        "colab_type": "code",
        "colab": {}
      },
      "source": [
        "y_true = df1.iloc[:,15]"
      ],
      "execution_count": 73,
      "outputs": []
    },
    {
      "cell_type": "code",
      "metadata": {
        "id": "GNTydFAB84Lt",
        "colab_type": "code",
        "colab": {}
      },
      "source": [
        ""
      ],
      "execution_count": 73,
      "outputs": []
    },
    {
      "cell_type": "code",
      "metadata": {
        "id": "BhjDVPj6kHHe",
        "colab_type": "code",
        "colab": {
          "base_uri": "https://localhost:8080/",
          "height": 34
        },
        "outputId": "7f5f0487-aa76-48e7-cd94-8be9ce63e29e"
      },
      "source": [
        "y_true.unique()"
      ],
      "execution_count": 74,
      "outputs": [
        {
          "output_type": "execute_result",
          "data": {
            "text/plain": [
              "array([0., 1.])"
            ]
          },
          "metadata": {
            "tags": []
          },
          "execution_count": 74
        }
      ]
    },
    {
      "cell_type": "code",
      "metadata": {
        "id": "QUjimy6IJ_wS",
        "colab_type": "code",
        "colab": {}
      },
      "source": [
        "#seed = 42\n",
        "test_size = 0.15\n",
        "X_train, X_test, y_train, y_test = train_test_split(X, y_true, test_size=test_size,shuffle= True)"
      ],
      "execution_count": 75,
      "outputs": []
    },
    {
      "cell_type": "code",
      "metadata": {
        "id": "r5KNo3We0J-4",
        "colab_type": "code",
        "colab": {}
      },
      "source": [
        "# X_val, X_test, y_val, y_test = train_test_split(X_Test, y_Test, test_size=0.75)"
      ],
      "execution_count": 76,
      "outputs": []
    },
    {
      "cell_type": "code",
      "metadata": {
        "id": "DeA4Ad6-TG2m",
        "colab_type": "code",
        "colab": {}
      },
      "source": [
        "from collections import Counter"
      ],
      "execution_count": 77,
      "outputs": []
    },
    {
      "cell_type": "code",
      "metadata": {
        "id": "u6qs--2goqXC",
        "colab_type": "code",
        "colab": {
          "base_uri": "https://localhost:8080/",
          "height": 34
        },
        "outputId": "86732fa1-9169-4325-d61d-f10f127183b8"
      },
      "source": [
        "print(X_train.shape,y_train.shape)"
      ],
      "execution_count": 78,
      "outputs": [
        {
          "output_type": "stream",
          "text": [
            "(81233, 13) (81233,)\n"
          ],
          "name": "stdout"
        }
      ]
    },
    {
      "cell_type": "code",
      "metadata": {
        "id": "Kz_JxO2XFUGw",
        "colab_type": "code",
        "colab": {
          "base_uri": "https://localhost:8080/",
          "height": 34
        },
        "outputId": "5b629f5d-7fbb-4c93-fbc9-2946237c1f90"
      },
      "source": [
        "len(X_test)"
      ],
      "execution_count": 79,
      "outputs": [
        {
          "output_type": "execute_result",
          "data": {
            "text/plain": [
              "14336"
            ]
          },
          "metadata": {
            "tags": []
          },
          "execution_count": 79
        }
      ]
    },
    {
      "cell_type": "code",
      "metadata": {
        "id": "d8Pk0uESFcGx",
        "colab_type": "code",
        "colab": {}
      },
      "source": [
        "#len(X_val)"
      ],
      "execution_count": 80,
      "outputs": []
    },
    {
      "cell_type": "code",
      "metadata": {
        "id": "Zxib685OjhRK",
        "colab_type": "code",
        "colab": {
          "base_uri": "https://localhost:8080/",
          "height": 34
        },
        "outputId": "2cda3469-efb5-437f-b458-7b482a0a64b2"
      },
      "source": [
        "Counter(y_train)"
      ],
      "execution_count": 81,
      "outputs": [
        {
          "output_type": "execute_result",
          "data": {
            "text/plain": [
              "Counter({0.0: 57982, 1.0: 23251})"
            ]
          },
          "metadata": {
            "tags": []
          },
          "execution_count": 81
        }
      ]
    },
    {
      "cell_type": "markdown",
      "metadata": {
        "id": "x46e8C02_USW",
        "colab_type": "text"
      },
      "source": [
        "64->16->4->1"
      ]
    },
    {
      "cell_type": "code",
      "metadata": {
        "id": "QK8nARFrb0jE",
        "colab_type": "code",
        "colab": {}
      },
      "source": [
        "class binaryClassification(nn.Module):\n",
        "    def __init__(self):\n",
        "        super(binaryClassification, self).__init__()\n",
        "        # Number of input features is 15.\n",
        "        self.layer_1 = nn.Linear(13, 64) \n",
        "        self.layer_2 = nn.Linear(64, 64)\n",
        "        self.layer_3 = nn.Linear(64, 64)\n",
        "        self.layer_4 = nn.Linear(64, 10)\n",
        "        self.layer_5 = nn.Linear(10, 4)\n",
        "        self.layer_out = nn.Linear(4, 1) \n",
        "        \n",
        "        self.relu = nn.ReLU()\n",
        "        self.dropout = nn.Dropout(p=0.1)\n",
        "        self.batchnorm1 = nn.BatchNorm1d(64)\n",
        "        self.batchnorm2 = nn.BatchNorm1d(64)\n",
        "        self.batchnorm3 = nn.BatchNorm1d(64)\n",
        "        self.batchnorm4 = nn.BatchNorm1d(10)\n",
        "\n",
        "        \n",
        "    def forward(self, inputs):\n",
        "        x = self.relu(self.layer_1(inputs))\n",
        "        x = self.batchnorm1(x)\n",
        "        x = self.relu(self.layer_2(x))\n",
        "        x = self.batchnorm2(x)\n",
        "        x = self.relu(self.layer_3(x))\n",
        "        x = self.batchnorm3(x)\n",
        "        x = self.relu(self.layer_4(x))\n",
        "        x = self.batchnorm4(x)\n",
        "        x = self.relu(self.layer_5(x))\n",
        "        x = self.dropout(x)\n",
        "        x = self.layer_out(x)\n",
        "        \n",
        "        return x"
      ],
      "execution_count": 82,
      "outputs": []
    },
    {
      "cell_type": "code",
      "metadata": {
        "id": "yXiXsGllj-Pp",
        "colab_type": "code",
        "colab": {}
      },
      "source": [
        "scaler = StandardScaler()\n",
        "X_train = scaler.fit_transform(X_train)\n",
        "#X_val = scaler.fit_transform(X_val)\n",
        "X_test = scaler.fit_transform(X_test)"
      ],
      "execution_count": 83,
      "outputs": []
    },
    {
      "cell_type": "code",
      "metadata": {
        "id": "V7K8tRCb1MOY",
        "colab_type": "code",
        "colab": {
          "base_uri": "https://localhost:8080/",
          "height": 238
        },
        "outputId": "5b251182-de92-4cf4-afb6-7b6f1f66ac7a"
      },
      "source": [
        "X_test"
      ],
      "execution_count": 84,
      "outputs": [
        {
          "output_type": "execute_result",
          "data": {
            "text/plain": [
              "array([[-1.22068951,  0.30938121,  0.08266454, ...,  0.0774405 ,\n",
              "         0.1372636 , -0.13922631],\n",
              "       [ 1.92921235, -0.60196962, -0.35277505, ..., -0.34711763,\n",
              "        -0.08075318,  0.13149203],\n",
              "       [-1.22068951, -0.59538395, -0.95637733, ..., -0.01913527,\n",
              "        -0.51753119, -0.26567849],\n",
              "       ...,\n",
              "       [-0.17072222, -0.53589013,  1.14027291, ..., -1.35571353,\n",
              "        -0.93414249,         nan],\n",
              "       [-0.17072222, -0.48569189, -0.90087256, ...,  0.04956264,\n",
              "        -0.38516491, -0.03401202],\n",
              "       [-1.22068951,  0.27539585,  0.13750902, ...,  0.02526948,\n",
              "         0.20500215, -0.13771959]])"
            ]
          },
          "metadata": {
            "tags": []
          },
          "execution_count": 84
        }
      ]
    },
    {
      "cell_type": "code",
      "metadata": {
        "id": "uam-SPjJlGsT",
        "colab_type": "code",
        "colab": {}
      },
      "source": [
        "EPOCHS = 100\n",
        "BATCH_SIZE = 75\n",
        "LEARNING_RATE = 0.0792"
      ],
      "execution_count": 85,
      "outputs": []
    },
    {
      "cell_type": "code",
      "metadata": {
        "id": "JdQAqwpOlTYo",
        "colab_type": "code",
        "colab": {}
      },
      "source": [
        "## train data\n",
        "class trainData(Dataset):\n",
        "    \n",
        "    def __init__(self, X_data, y_data):\n",
        "        self.X_data = X_data\n",
        "        self.y_data = y_data\n",
        "        \n",
        "    def __getitem__(self, index):\n",
        "        return self.X_data[index], self.y_data[index]\n",
        "        \n",
        "    def __len__ (self):\n",
        "        return len(self.X_data)\n",
        "\n",
        "y_train = y_train.values\n",
        "train_data = trainData(torch.FloatTensor(X_train),torch.FloatTensor(y_train))\n",
        "## test data    \n",
        "class testData(Dataset):\n",
        "    \n",
        "    def __init__(self, X_data):\n",
        "        self.X_data = X_data\n",
        "        \n",
        "    def __getitem__(self, index):\n",
        "        return self.X_data[index]\n",
        "        \n",
        "    def __len__ (self):\n",
        "        return len(self.X_data)\n",
        "# ## val data    \n",
        "# class valData(Dataset):\n",
        "    \n",
        "#     def __init__(self, X_data):\n",
        "#         self.X_data = X_data\n",
        "        \n",
        "#     def __getitem__(self, index):\n",
        "#         return self.X_data[index]\n",
        "        \n",
        "#     def __len__ (self):\n",
        "#         return len(self.X_data)\n",
        "\n",
        "test_data = testData(torch.FloatTensor(X_test))\n",
        "# val_data = valData(torch.FloatTensor(X_val))"
      ],
      "execution_count": 86,
      "outputs": []
    },
    {
      "cell_type": "code",
      "metadata": {
        "id": "7ADj3luUlV2O",
        "colab_type": "code",
        "colab": {}
      },
      "source": [
        "train_loader = DataLoader(dataset=train_data, batch_size=BATCH_SIZE, shuffle=True)\n",
        "# val_loader = DataLoader(dataset=val_data, batch_size=1)\n",
        "test_loader = DataLoader(dataset=test_data, batch_size=1)"
      ],
      "execution_count": 87,
      "outputs": []
    },
    {
      "cell_type": "code",
      "metadata": {
        "id": "Ipz_O-d2ndxr",
        "colab_type": "code",
        "colab": {
          "base_uri": "https://localhost:8080/",
          "height": 34
        },
        "outputId": "15eb88aa-2f22-4f6d-c81f-b4cc9b92dd1f"
      },
      "source": [
        "device = torch.device(\"cuda:0\" if torch.cuda.is_available() else \"cpu\")\n",
        "print(device)"
      ],
      "execution_count": 88,
      "outputs": [
        {
          "output_type": "stream",
          "text": [
            "cuda:0\n"
          ],
          "name": "stdout"
        }
      ]
    },
    {
      "cell_type": "code",
      "metadata": {
        "id": "XmrpoOEmnaqx",
        "colab_type": "code",
        "colab": {
          "base_uri": "https://localhost:8080/",
          "height": 255
        },
        "outputId": "f5c130ad-fdf7-4e35-8ae5-b51f273cd444"
      },
      "source": [
        "model = binaryClassification()\n",
        "model.to(device)"
      ],
      "execution_count": 89,
      "outputs": [
        {
          "output_type": "execute_result",
          "data": {
            "text/plain": [
              "binaryClassification(\n",
              "  (layer_1): Linear(in_features=13, out_features=64, bias=True)\n",
              "  (layer_2): Linear(in_features=64, out_features=64, bias=True)\n",
              "  (layer_3): Linear(in_features=64, out_features=64, bias=True)\n",
              "  (layer_4): Linear(in_features=64, out_features=10, bias=True)\n",
              "  (layer_5): Linear(in_features=10, out_features=4, bias=True)\n",
              "  (layer_out): Linear(in_features=4, out_features=1, bias=True)\n",
              "  (relu): ReLU()\n",
              "  (dropout): Dropout(p=0.1, inplace=False)\n",
              "  (batchnorm1): BatchNorm1d(64, eps=1e-05, momentum=0.1, affine=True, track_running_stats=True)\n",
              "  (batchnorm2): BatchNorm1d(64, eps=1e-05, momentum=0.1, affine=True, track_running_stats=True)\n",
              "  (batchnorm3): BatchNorm1d(64, eps=1e-05, momentum=0.1, affine=True, track_running_stats=True)\n",
              "  (batchnorm4): BatchNorm1d(10, eps=1e-05, momentum=0.1, affine=True, track_running_stats=True)\n",
              ")"
            ]
          },
          "metadata": {
            "tags": []
          },
          "execution_count": 89
        }
      ]
    },
    {
      "cell_type": "code",
      "metadata": {
        "id": "rKX1xn8OnRQl",
        "colab_type": "code",
        "colab": {}
      },
      "source": [
        "criterion = nn.BCEWithLogitsLoss()\n",
        "optimizer = optim.Adam(model.parameters(), lr=LEARNING_RATE)"
      ],
      "execution_count": 90,
      "outputs": []
    },
    {
      "cell_type": "code",
      "metadata": {
        "id": "CX-alqvfpa1D",
        "colab_type": "code",
        "colab": {}
      },
      "source": [
        "def binary_acc(y_pred, y_test):\n",
        "    y_pred_tag = torch.round(torch.sigmoid(y_pred))\n",
        "\n",
        "    correct_results_sum = (y_pred_tag == y_test).sum().float()\n",
        "    acc = correct_results_sum/y_test.shape[0]\n",
        "    acc = torch.round(acc * 100)\n",
        "    \n",
        "    return acc"
      ],
      "execution_count": 91,
      "outputs": []
    },
    {
      "cell_type": "code",
      "metadata": {
        "id": "tVcAHAH7pmWc",
        "colab_type": "code",
        "colab": {}
      },
      "source": [
        "model.train()\n",
        "for e in range(1, EPOCHS+1):\n",
        "    epoch_loss = 0\n",
        "    epoch_acc = 0\n",
        "    for X_batch, y_batch in train_loader:\n",
        "        X_batch, y_batch = X_batch.to(device), y_batch.to(device)\n",
        "        optimizer.zero_grad()\n",
        "        #X_batch = X_batch\n",
        "  \n",
        "        y_pred = model(X_batch)\n",
        "        \n",
        "        loss = criterion(y_pred, y_batch.unsqueeze(1))\n",
        "        acc = binary_acc(y_pred, y_batch.unsqueeze(1))\n",
        "        \n",
        "        loss.backward()\n",
        "        optimizer.step()\n",
        "        \n",
        "        epoch_loss += loss.item()\n",
        "        epoch_acc += acc.item()"
      ],
      "execution_count": 92,
      "outputs": []
    },
    {
      "cell_type": "code",
      "metadata": {
        "id": "bkg9Nwg7MH-E",
        "colab_type": "code",
        "colab": {}
      },
      "source": [
        "y_pred_list = []\n",
        "model.eval()\n",
        "with torch.no_grad():\n",
        "    for X_batch in test_loader:\n",
        "        X_batch = X_batch.to(device)\n",
        "        y_test_pred = model(X_batch)\n",
        "        y_test_pred = torch.sigmoid(y_test_pred)\n",
        "        y_pred_tag = torch.round(y_test_pred)\n",
        "        y_pred_list.append(y_pred_tag.cpu().numpy())\n",
        "\n",
        "y_pred_list = [a.squeeze().tolist() for a in y_pred_list]"
      ],
      "execution_count": 93,
      "outputs": []
    },
    {
      "cell_type": "code",
      "metadata": {
        "id": "9aad4gs6eB_O",
        "colab_type": "code",
        "colab": {
          "base_uri": "https://localhost:8080/",
          "height": 1000
        },
        "outputId": "833a3aaf-4002-4466-d4d8-be4ba424702a"
      },
      "source": [
        "y_pred_list"
      ],
      "execution_count": 95,
      "outputs": [
        {
          "output_type": "execute_result",
          "data": {
            "text/plain": [
              "[nan,\n",
              " nan,\n",
              " nan,\n",
              " nan,\n",
              " nan,\n",
              " nan,\n",
              " nan,\n",
              " nan,\n",
              " nan,\n",
              " nan,\n",
              " nan,\n",
              " nan,\n",
              " nan,\n",
              " nan,\n",
              " nan,\n",
              " nan,\n",
              " nan,\n",
              " nan,\n",
              " nan,\n",
              " nan,\n",
              " nan,\n",
              " nan,\n",
              " nan,\n",
              " nan,\n",
              " nan,\n",
              " nan,\n",
              " nan,\n",
              " nan,\n",
              " nan,\n",
              " nan,\n",
              " nan,\n",
              " nan,\n",
              " nan,\n",
              " nan,\n",
              " nan,\n",
              " nan,\n",
              " nan,\n",
              " nan,\n",
              " nan,\n",
              " nan,\n",
              " nan,\n",
              " nan,\n",
              " nan,\n",
              " nan,\n",
              " nan,\n",
              " nan,\n",
              " nan,\n",
              " nan,\n",
              " nan,\n",
              " nan,\n",
              " nan,\n",
              " nan,\n",
              " nan,\n",
              " nan,\n",
              " nan,\n",
              " nan,\n",
              " nan,\n",
              " nan,\n",
              " nan,\n",
              " nan,\n",
              " nan,\n",
              " nan,\n",
              " nan,\n",
              " nan,\n",
              " nan,\n",
              " nan,\n",
              " nan,\n",
              " nan,\n",
              " nan,\n",
              " nan,\n",
              " nan,\n",
              " nan,\n",
              " nan,\n",
              " nan,\n",
              " nan,\n",
              " nan,\n",
              " nan,\n",
              " nan,\n",
              " nan,\n",
              " nan,\n",
              " nan,\n",
              " nan,\n",
              " nan,\n",
              " nan,\n",
              " nan,\n",
              " nan,\n",
              " nan,\n",
              " nan,\n",
              " nan,\n",
              " nan,\n",
              " nan,\n",
              " nan,\n",
              " nan,\n",
              " nan,\n",
              " nan,\n",
              " nan,\n",
              " nan,\n",
              " nan,\n",
              " nan,\n",
              " nan,\n",
              " nan,\n",
              " nan,\n",
              " nan,\n",
              " nan,\n",
              " nan,\n",
              " nan,\n",
              " nan,\n",
              " nan,\n",
              " nan,\n",
              " nan,\n",
              " nan,\n",
              " nan,\n",
              " nan,\n",
              " nan,\n",
              " nan,\n",
              " nan,\n",
              " nan,\n",
              " nan,\n",
              " nan,\n",
              " nan,\n",
              " nan,\n",
              " nan,\n",
              " nan,\n",
              " nan,\n",
              " nan,\n",
              " nan,\n",
              " nan,\n",
              " nan,\n",
              " nan,\n",
              " nan,\n",
              " nan,\n",
              " nan,\n",
              " nan,\n",
              " nan,\n",
              " nan,\n",
              " nan,\n",
              " nan,\n",
              " nan,\n",
              " nan,\n",
              " nan,\n",
              " nan,\n",
              " nan,\n",
              " nan,\n",
              " nan,\n",
              " nan,\n",
              " nan,\n",
              " nan,\n",
              " nan,\n",
              " nan,\n",
              " nan,\n",
              " nan,\n",
              " nan,\n",
              " nan,\n",
              " nan,\n",
              " nan,\n",
              " nan,\n",
              " nan,\n",
              " nan,\n",
              " nan,\n",
              " nan,\n",
              " nan,\n",
              " nan,\n",
              " nan,\n",
              " nan,\n",
              " nan,\n",
              " nan,\n",
              " nan,\n",
              " nan,\n",
              " nan,\n",
              " nan,\n",
              " nan,\n",
              " nan,\n",
              " nan,\n",
              " nan,\n",
              " nan,\n",
              " nan,\n",
              " nan,\n",
              " nan,\n",
              " nan,\n",
              " nan,\n",
              " nan,\n",
              " nan,\n",
              " nan,\n",
              " nan,\n",
              " nan,\n",
              " nan,\n",
              " nan,\n",
              " nan,\n",
              " nan,\n",
              " nan,\n",
              " nan,\n",
              " nan,\n",
              " nan,\n",
              " nan,\n",
              " nan,\n",
              " nan,\n",
              " nan,\n",
              " nan,\n",
              " nan,\n",
              " nan,\n",
              " nan,\n",
              " nan,\n",
              " nan,\n",
              " nan,\n",
              " nan,\n",
              " nan,\n",
              " nan,\n",
              " nan,\n",
              " nan,\n",
              " nan,\n",
              " nan,\n",
              " nan,\n",
              " nan,\n",
              " nan,\n",
              " nan,\n",
              " nan,\n",
              " nan,\n",
              " nan,\n",
              " nan,\n",
              " nan,\n",
              " nan,\n",
              " nan,\n",
              " nan,\n",
              " nan,\n",
              " nan,\n",
              " nan,\n",
              " nan,\n",
              " nan,\n",
              " nan,\n",
              " nan,\n",
              " nan,\n",
              " nan,\n",
              " nan,\n",
              " nan,\n",
              " nan,\n",
              " nan,\n",
              " nan,\n",
              " nan,\n",
              " nan,\n",
              " nan,\n",
              " nan,\n",
              " nan,\n",
              " nan,\n",
              " nan,\n",
              " nan,\n",
              " nan,\n",
              " nan,\n",
              " nan,\n",
              " nan,\n",
              " nan,\n",
              " nan,\n",
              " nan,\n",
              " nan,\n",
              " nan,\n",
              " nan,\n",
              " nan,\n",
              " nan,\n",
              " nan,\n",
              " nan,\n",
              " nan,\n",
              " nan,\n",
              " nan,\n",
              " nan,\n",
              " nan,\n",
              " nan,\n",
              " nan,\n",
              " nan,\n",
              " nan,\n",
              " nan,\n",
              " nan,\n",
              " nan,\n",
              " nan,\n",
              " nan,\n",
              " nan,\n",
              " nan,\n",
              " nan,\n",
              " nan,\n",
              " nan,\n",
              " nan,\n",
              " nan,\n",
              " nan,\n",
              " nan,\n",
              " nan,\n",
              " nan,\n",
              " nan,\n",
              " nan,\n",
              " nan,\n",
              " nan,\n",
              " nan,\n",
              " nan,\n",
              " nan,\n",
              " nan,\n",
              " nan,\n",
              " nan,\n",
              " nan,\n",
              " nan,\n",
              " nan,\n",
              " nan,\n",
              " nan,\n",
              " nan,\n",
              " nan,\n",
              " nan,\n",
              " nan,\n",
              " nan,\n",
              " nan,\n",
              " nan,\n",
              " nan,\n",
              " nan,\n",
              " nan,\n",
              " nan,\n",
              " nan,\n",
              " nan,\n",
              " nan,\n",
              " nan,\n",
              " nan,\n",
              " nan,\n",
              " nan,\n",
              " nan,\n",
              " nan,\n",
              " nan,\n",
              " nan,\n",
              " nan,\n",
              " nan,\n",
              " nan,\n",
              " nan,\n",
              " nan,\n",
              " nan,\n",
              " nan,\n",
              " nan,\n",
              " nan,\n",
              " nan,\n",
              " nan,\n",
              " nan,\n",
              " nan,\n",
              " nan,\n",
              " nan,\n",
              " nan,\n",
              " nan,\n",
              " nan,\n",
              " nan,\n",
              " nan,\n",
              " nan,\n",
              " nan,\n",
              " nan,\n",
              " nan,\n",
              " nan,\n",
              " nan,\n",
              " nan,\n",
              " nan,\n",
              " nan,\n",
              " nan,\n",
              " nan,\n",
              " nan,\n",
              " nan,\n",
              " nan,\n",
              " nan,\n",
              " nan,\n",
              " nan,\n",
              " nan,\n",
              " nan,\n",
              " nan,\n",
              " nan,\n",
              " nan,\n",
              " nan,\n",
              " nan,\n",
              " nan,\n",
              " nan,\n",
              " nan,\n",
              " nan,\n",
              " nan,\n",
              " nan,\n",
              " nan,\n",
              " nan,\n",
              " nan,\n",
              " nan,\n",
              " nan,\n",
              " nan,\n",
              " nan,\n",
              " nan,\n",
              " nan,\n",
              " nan,\n",
              " nan,\n",
              " nan,\n",
              " nan,\n",
              " nan,\n",
              " nan,\n",
              " nan,\n",
              " nan,\n",
              " nan,\n",
              " nan,\n",
              " nan,\n",
              " nan,\n",
              " nan,\n",
              " nan,\n",
              " nan,\n",
              " nan,\n",
              " nan,\n",
              " nan,\n",
              " nan,\n",
              " nan,\n",
              " nan,\n",
              " nan,\n",
              " nan,\n",
              " nan,\n",
              " nan,\n",
              " nan,\n",
              " nan,\n",
              " nan,\n",
              " nan,\n",
              " nan,\n",
              " nan,\n",
              " nan,\n",
              " nan,\n",
              " nan,\n",
              " nan,\n",
              " nan,\n",
              " nan,\n",
              " nan,\n",
              " nan,\n",
              " nan,\n",
              " nan,\n",
              " nan,\n",
              " nan,\n",
              " nan,\n",
              " nan,\n",
              " nan,\n",
              " nan,\n",
              " nan,\n",
              " nan,\n",
              " nan,\n",
              " nan,\n",
              " nan,\n",
              " nan,\n",
              " nan,\n",
              " nan,\n",
              " nan,\n",
              " nan,\n",
              " nan,\n",
              " nan,\n",
              " nan,\n",
              " nan,\n",
              " nan,\n",
              " nan,\n",
              " nan,\n",
              " nan,\n",
              " nan,\n",
              " nan,\n",
              " nan,\n",
              " nan,\n",
              " nan,\n",
              " nan,\n",
              " nan,\n",
              " nan,\n",
              " nan,\n",
              " nan,\n",
              " nan,\n",
              " nan,\n",
              " nan,\n",
              " nan,\n",
              " nan,\n",
              " nan,\n",
              " nan,\n",
              " nan,\n",
              " nan,\n",
              " nan,\n",
              " nan,\n",
              " nan,\n",
              " nan,\n",
              " nan,\n",
              " nan,\n",
              " nan,\n",
              " nan,\n",
              " nan,\n",
              " nan,\n",
              " nan,\n",
              " nan,\n",
              " nan,\n",
              " nan,\n",
              " nan,\n",
              " nan,\n",
              " nan,\n",
              " nan,\n",
              " nan,\n",
              " nan,\n",
              " nan,\n",
              " nan,\n",
              " nan,\n",
              " nan,\n",
              " nan,\n",
              " nan,\n",
              " nan,\n",
              " nan,\n",
              " nan,\n",
              " nan,\n",
              " nan,\n",
              " nan,\n",
              " nan,\n",
              " nan,\n",
              " nan,\n",
              " nan,\n",
              " nan,\n",
              " nan,\n",
              " nan,\n",
              " nan,\n",
              " nan,\n",
              " nan,\n",
              " nan,\n",
              " nan,\n",
              " nan,\n",
              " nan,\n",
              " nan,\n",
              " nan,\n",
              " nan,\n",
              " nan,\n",
              " nan,\n",
              " nan,\n",
              " nan,\n",
              " nan,\n",
              " nan,\n",
              " nan,\n",
              " nan,\n",
              " nan,\n",
              " nan,\n",
              " nan,\n",
              " nan,\n",
              " nan,\n",
              " nan,\n",
              " nan,\n",
              " nan,\n",
              " nan,\n",
              " nan,\n",
              " nan,\n",
              " nan,\n",
              " nan,\n",
              " nan,\n",
              " nan,\n",
              " nan,\n",
              " nan,\n",
              " nan,\n",
              " nan,\n",
              " nan,\n",
              " nan,\n",
              " nan,\n",
              " nan,\n",
              " nan,\n",
              " nan,\n",
              " nan,\n",
              " nan,\n",
              " nan,\n",
              " nan,\n",
              " nan,\n",
              " nan,\n",
              " nan,\n",
              " nan,\n",
              " nan,\n",
              " nan,\n",
              " nan,\n",
              " nan,\n",
              " nan,\n",
              " nan,\n",
              " nan,\n",
              " nan,\n",
              " nan,\n",
              " nan,\n",
              " nan,\n",
              " nan,\n",
              " nan,\n",
              " nan,\n",
              " nan,\n",
              " nan,\n",
              " nan,\n",
              " nan,\n",
              " nan,\n",
              " nan,\n",
              " nan,\n",
              " nan,\n",
              " nan,\n",
              " nan,\n",
              " nan,\n",
              " nan,\n",
              " nan,\n",
              " nan,\n",
              " nan,\n",
              " nan,\n",
              " nan,\n",
              " nan,\n",
              " nan,\n",
              " nan,\n",
              " nan,\n",
              " nan,\n",
              " nan,\n",
              " nan,\n",
              " nan,\n",
              " nan,\n",
              " nan,\n",
              " nan,\n",
              " nan,\n",
              " nan,\n",
              " nan,\n",
              " nan,\n",
              " nan,\n",
              " nan,\n",
              " nan,\n",
              " nan,\n",
              " nan,\n",
              " nan,\n",
              " nan,\n",
              " nan,\n",
              " nan,\n",
              " nan,\n",
              " nan,\n",
              " nan,\n",
              " nan,\n",
              " nan,\n",
              " nan,\n",
              " nan,\n",
              " nan,\n",
              " nan,\n",
              " nan,\n",
              " nan,\n",
              " nan,\n",
              " nan,\n",
              " nan,\n",
              " nan,\n",
              " nan,\n",
              " nan,\n",
              " nan,\n",
              " nan,\n",
              " nan,\n",
              " nan,\n",
              " nan,\n",
              " nan,\n",
              " nan,\n",
              " nan,\n",
              " nan,\n",
              " nan,\n",
              " nan,\n",
              " nan,\n",
              " nan,\n",
              " nan,\n",
              " nan,\n",
              " nan,\n",
              " nan,\n",
              " nan,\n",
              " nan,\n",
              " nan,\n",
              " nan,\n",
              " nan,\n",
              " nan,\n",
              " nan,\n",
              " nan,\n",
              " nan,\n",
              " nan,\n",
              " nan,\n",
              " nan,\n",
              " nan,\n",
              " nan,\n",
              " nan,\n",
              " nan,\n",
              " nan,\n",
              " nan,\n",
              " nan,\n",
              " nan,\n",
              " nan,\n",
              " nan,\n",
              " nan,\n",
              " nan,\n",
              " nan,\n",
              " nan,\n",
              " nan,\n",
              " nan,\n",
              " nan,\n",
              " nan,\n",
              " nan,\n",
              " nan,\n",
              " nan,\n",
              " nan,\n",
              " nan,\n",
              " nan,\n",
              " nan,\n",
              " nan,\n",
              " nan,\n",
              " nan,\n",
              " nan,\n",
              " nan,\n",
              " nan,\n",
              " nan,\n",
              " nan,\n",
              " nan,\n",
              " nan,\n",
              " nan,\n",
              " nan,\n",
              " nan,\n",
              " nan,\n",
              " nan,\n",
              " nan,\n",
              " nan,\n",
              " nan,\n",
              " nan,\n",
              " nan,\n",
              " nan,\n",
              " nan,\n",
              " nan,\n",
              " nan,\n",
              " nan,\n",
              " nan,\n",
              " nan,\n",
              " nan,\n",
              " nan,\n",
              " nan,\n",
              " nan,\n",
              " nan,\n",
              " nan,\n",
              " nan,\n",
              " nan,\n",
              " nan,\n",
              " nan,\n",
              " nan,\n",
              " nan,\n",
              " nan,\n",
              " nan,\n",
              " nan,\n",
              " nan,\n",
              " nan,\n",
              " nan,\n",
              " nan,\n",
              " nan,\n",
              " nan,\n",
              " nan,\n",
              " nan,\n",
              " nan,\n",
              " nan,\n",
              " nan,\n",
              " nan,\n",
              " nan,\n",
              " nan,\n",
              " nan,\n",
              " nan,\n",
              " nan,\n",
              " nan,\n",
              " nan,\n",
              " nan,\n",
              " nan,\n",
              " nan,\n",
              " nan,\n",
              " nan,\n",
              " nan,\n",
              " nan,\n",
              " nan,\n",
              " nan,\n",
              " nan,\n",
              " nan,\n",
              " nan,\n",
              " nan,\n",
              " nan,\n",
              " nan,\n",
              " nan,\n",
              " nan,\n",
              " nan,\n",
              " nan,\n",
              " nan,\n",
              " nan,\n",
              " nan,\n",
              " nan,\n",
              " nan,\n",
              " nan,\n",
              " nan,\n",
              " nan,\n",
              " nan,\n",
              " nan,\n",
              " nan,\n",
              " nan,\n",
              " nan,\n",
              " nan,\n",
              " nan,\n",
              " nan,\n",
              " nan,\n",
              " nan,\n",
              " nan,\n",
              " nan,\n",
              " nan,\n",
              " nan,\n",
              " nan,\n",
              " nan,\n",
              " nan,\n",
              " nan,\n",
              " nan,\n",
              " nan,\n",
              " nan,\n",
              " nan,\n",
              " nan,\n",
              " nan,\n",
              " nan,\n",
              " nan,\n",
              " nan,\n",
              " nan,\n",
              " nan,\n",
              " nan,\n",
              " nan,\n",
              " nan,\n",
              " nan,\n",
              " nan,\n",
              " nan,\n",
              " nan,\n",
              " nan,\n",
              " nan,\n",
              " nan,\n",
              " nan,\n",
              " nan,\n",
              " nan,\n",
              " nan,\n",
              " nan,\n",
              " nan,\n",
              " nan,\n",
              " nan,\n",
              " nan,\n",
              " nan,\n",
              " nan,\n",
              " nan,\n",
              " nan,\n",
              " nan,\n",
              " nan,\n",
              " nan,\n",
              " nan,\n",
              " nan,\n",
              " nan,\n",
              " nan,\n",
              " nan,\n",
              " nan,\n",
              " nan,\n",
              " nan,\n",
              " nan,\n",
              " nan,\n",
              " nan,\n",
              " nan,\n",
              " nan,\n",
              " nan,\n",
              " nan,\n",
              " nan,\n",
              " nan,\n",
              " nan,\n",
              " nan,\n",
              " nan,\n",
              " nan,\n",
              " nan,\n",
              " nan,\n",
              " nan,\n",
              " nan,\n",
              " nan,\n",
              " nan,\n",
              " nan,\n",
              " nan,\n",
              " nan,\n",
              " nan,\n",
              " nan,\n",
              " nan,\n",
              " nan,\n",
              " nan,\n",
              " nan,\n",
              " nan,\n",
              " nan,\n",
              " nan,\n",
              " nan,\n",
              " nan,\n",
              " nan,\n",
              " nan,\n",
              " nan,\n",
              " nan,\n",
              " nan,\n",
              " nan,\n",
              " nan,\n",
              " nan,\n",
              " nan,\n",
              " nan,\n",
              " nan,\n",
              " nan,\n",
              " nan,\n",
              " nan,\n",
              " nan,\n",
              " nan,\n",
              " nan,\n",
              " nan,\n",
              " nan,\n",
              " nan,\n",
              " nan,\n",
              " nan,\n",
              " nan,\n",
              " nan,\n",
              " nan,\n",
              " nan,\n",
              " nan,\n",
              " nan,\n",
              " nan,\n",
              " nan,\n",
              " nan,\n",
              " nan,\n",
              " nan,\n",
              " nan,\n",
              " nan,\n",
              " nan,\n",
              " nan,\n",
              " nan,\n",
              " nan,\n",
              " nan,\n",
              " nan,\n",
              " nan,\n",
              " nan,\n",
              " nan,\n",
              " nan,\n",
              " nan,\n",
              " nan,\n",
              " nan,\n",
              " nan,\n",
              " nan,\n",
              " nan,\n",
              " nan,\n",
              " nan,\n",
              " nan,\n",
              " nan,\n",
              " nan,\n",
              " nan,\n",
              " nan,\n",
              " nan,\n",
              " nan,\n",
              " nan,\n",
              " nan,\n",
              " nan,\n",
              " nan,\n",
              " nan,\n",
              " nan,\n",
              " nan,\n",
              " nan,\n",
              " nan,\n",
              " nan,\n",
              " nan,\n",
              " nan,\n",
              " nan,\n",
              " nan,\n",
              " nan,\n",
              " nan,\n",
              " nan,\n",
              " nan,\n",
              " nan,\n",
              " nan,\n",
              " nan,\n",
              " nan,\n",
              " nan,\n",
              " nan,\n",
              " nan,\n",
              " nan,\n",
              " nan,\n",
              " nan,\n",
              " nan,\n",
              " nan,\n",
              " nan,\n",
              " nan,\n",
              " nan,\n",
              " nan,\n",
              " nan,\n",
              " nan,\n",
              " nan,\n",
              " nan,\n",
              " nan,\n",
              " nan,\n",
              " nan,\n",
              " nan,\n",
              " nan,\n",
              " nan,\n",
              " nan,\n",
              " nan,\n",
              " nan,\n",
              " nan,\n",
              " nan,\n",
              " nan,\n",
              " nan,\n",
              " nan,\n",
              " nan,\n",
              " nan,\n",
              " nan,\n",
              " nan,\n",
              " nan,\n",
              " nan,\n",
              " nan,\n",
              " nan,\n",
              " nan,\n",
              " nan,\n",
              " nan,\n",
              " nan,\n",
              " nan,\n",
              " nan,\n",
              " nan,\n",
              " nan,\n",
              " nan,\n",
              " nan,\n",
              " nan,\n",
              " nan,\n",
              " nan,\n",
              " nan,\n",
              " nan,\n",
              " nan,\n",
              " ...]"
            ]
          },
          "metadata": {
            "tags": []
          },
          "execution_count": 95
        }
      ]
    },
    {
      "cell_type": "code",
      "metadata": {
        "id": "oOx8PsecMNoW",
        "colab_type": "code",
        "colab": {
          "base_uri": "https://localhost:8080/",
          "height": 307
        },
        "outputId": "cd0543f3-d554-4dc1-c09b-aedd049be234"
      },
      "source": [
        "confusion_matrix(y_test, y_pred_list)"
      ],
      "execution_count": 94,
      "outputs": [
        {
          "output_type": "error",
          "ename": "ValueError",
          "evalue": "ignored",
          "traceback": [
            "\u001b[0;31m---------------------------------------------------------------------------\u001b[0m",
            "\u001b[0;31mValueError\u001b[0m                                Traceback (most recent call last)",
            "\u001b[0;32m<ipython-input-94-046356929824>\u001b[0m in \u001b[0;36m<module>\u001b[0;34m()\u001b[0m\n\u001b[0;32m----> 1\u001b[0;31m \u001b[0mconfusion_matrix\u001b[0m\u001b[0;34m(\u001b[0m\u001b[0my_test\u001b[0m\u001b[0;34m,\u001b[0m \u001b[0my_pred_list\u001b[0m\u001b[0;34m)\u001b[0m\u001b[0;34m\u001b[0m\u001b[0;34m\u001b[0m\u001b[0m\n\u001b[0m",
            "\u001b[0;32m/usr/local/lib/python3.6/dist-packages/sklearn/metrics/_classification.py\u001b[0m in \u001b[0;36mconfusion_matrix\u001b[0;34m(y_true, y_pred, labels, sample_weight, normalize)\u001b[0m\n\u001b[1;32m    266\u001b[0m \u001b[0;34m\u001b[0m\u001b[0m\n\u001b[1;32m    267\u001b[0m     \"\"\"\n\u001b[0;32m--> 268\u001b[0;31m     \u001b[0my_type\u001b[0m\u001b[0;34m,\u001b[0m \u001b[0my_true\u001b[0m\u001b[0;34m,\u001b[0m \u001b[0my_pred\u001b[0m \u001b[0;34m=\u001b[0m \u001b[0m_check_targets\u001b[0m\u001b[0;34m(\u001b[0m\u001b[0my_true\u001b[0m\u001b[0;34m,\u001b[0m \u001b[0my_pred\u001b[0m\u001b[0;34m)\u001b[0m\u001b[0;34m\u001b[0m\u001b[0;34m\u001b[0m\u001b[0m\n\u001b[0m\u001b[1;32m    269\u001b[0m     \u001b[0;32mif\u001b[0m \u001b[0my_type\u001b[0m \u001b[0;32mnot\u001b[0m \u001b[0;32min\u001b[0m \u001b[0;34m(\u001b[0m\u001b[0;34m\"binary\"\u001b[0m\u001b[0;34m,\u001b[0m \u001b[0;34m\"multiclass\"\u001b[0m\u001b[0;34m)\u001b[0m\u001b[0;34m:\u001b[0m\u001b[0;34m\u001b[0m\u001b[0;34m\u001b[0m\u001b[0m\n\u001b[1;32m    270\u001b[0m         \u001b[0;32mraise\u001b[0m \u001b[0mValueError\u001b[0m\u001b[0;34m(\u001b[0m\u001b[0;34m\"%s is not supported\"\u001b[0m \u001b[0;34m%\u001b[0m \u001b[0my_type\u001b[0m\u001b[0;34m)\u001b[0m\u001b[0;34m\u001b[0m\u001b[0;34m\u001b[0m\u001b[0m\n",
            "\u001b[0;32m/usr/local/lib/python3.6/dist-packages/sklearn/metrics/_classification.py\u001b[0m in \u001b[0;36m_check_targets\u001b[0;34m(y_true, y_pred)\u001b[0m\n\u001b[1;32m     80\u001b[0m     \u001b[0mcheck_consistent_length\u001b[0m\u001b[0;34m(\u001b[0m\u001b[0my_true\u001b[0m\u001b[0;34m,\u001b[0m \u001b[0my_pred\u001b[0m\u001b[0;34m)\u001b[0m\u001b[0;34m\u001b[0m\u001b[0;34m\u001b[0m\u001b[0m\n\u001b[1;32m     81\u001b[0m     \u001b[0mtype_true\u001b[0m \u001b[0;34m=\u001b[0m \u001b[0mtype_of_target\u001b[0m\u001b[0;34m(\u001b[0m\u001b[0my_true\u001b[0m\u001b[0;34m)\u001b[0m\u001b[0;34m\u001b[0m\u001b[0;34m\u001b[0m\u001b[0m\n\u001b[0;32m---> 82\u001b[0;31m     \u001b[0mtype_pred\u001b[0m \u001b[0;34m=\u001b[0m \u001b[0mtype_of_target\u001b[0m\u001b[0;34m(\u001b[0m\u001b[0my_pred\u001b[0m\u001b[0;34m)\u001b[0m\u001b[0;34m\u001b[0m\u001b[0;34m\u001b[0m\u001b[0m\n\u001b[0m\u001b[1;32m     83\u001b[0m \u001b[0;34m\u001b[0m\u001b[0m\n\u001b[1;32m     84\u001b[0m     \u001b[0my_type\u001b[0m \u001b[0;34m=\u001b[0m \u001b[0;34m{\u001b[0m\u001b[0mtype_true\u001b[0m\u001b[0;34m,\u001b[0m \u001b[0mtype_pred\u001b[0m\u001b[0;34m}\u001b[0m\u001b[0;34m\u001b[0m\u001b[0;34m\u001b[0m\u001b[0m\n",
            "\u001b[0;32m/usr/local/lib/python3.6/dist-packages/sklearn/utils/multiclass.py\u001b[0m in \u001b[0;36mtype_of_target\u001b[0;34m(y)\u001b[0m\n\u001b[1;32m    282\u001b[0m     \u001b[0;32mif\u001b[0m \u001b[0my\u001b[0m\u001b[0;34m.\u001b[0m\u001b[0mdtype\u001b[0m\u001b[0;34m.\u001b[0m\u001b[0mkind\u001b[0m \u001b[0;34m==\u001b[0m \u001b[0;34m'f'\u001b[0m \u001b[0;32mand\u001b[0m \u001b[0mnp\u001b[0m\u001b[0;34m.\u001b[0m\u001b[0many\u001b[0m\u001b[0;34m(\u001b[0m\u001b[0my\u001b[0m \u001b[0;34m!=\u001b[0m \u001b[0my\u001b[0m\u001b[0;34m.\u001b[0m\u001b[0mastype\u001b[0m\u001b[0;34m(\u001b[0m\u001b[0mint\u001b[0m\u001b[0;34m)\u001b[0m\u001b[0;34m)\u001b[0m\u001b[0;34m:\u001b[0m\u001b[0;34m\u001b[0m\u001b[0;34m\u001b[0m\u001b[0m\n\u001b[1;32m    283\u001b[0m         \u001b[0;31m# [.1, .2, 3] or [[.1, .2, 3]] or [[1., .2]] and not [1., 2., 3.]\u001b[0m\u001b[0;34m\u001b[0m\u001b[0;34m\u001b[0m\u001b[0;34m\u001b[0m\u001b[0m\n\u001b[0;32m--> 284\u001b[0;31m         \u001b[0m_assert_all_finite\u001b[0m\u001b[0;34m(\u001b[0m\u001b[0my\u001b[0m\u001b[0;34m)\u001b[0m\u001b[0;34m\u001b[0m\u001b[0;34m\u001b[0m\u001b[0m\n\u001b[0m\u001b[1;32m    285\u001b[0m         \u001b[0;32mreturn\u001b[0m \u001b[0;34m'continuous'\u001b[0m \u001b[0;34m+\u001b[0m \u001b[0msuffix\u001b[0m\u001b[0;34m\u001b[0m\u001b[0;34m\u001b[0m\u001b[0m\n\u001b[1;32m    286\u001b[0m \u001b[0;34m\u001b[0m\u001b[0m\n",
            "\u001b[0;32m/usr/local/lib/python3.6/dist-packages/sklearn/utils/validation.py\u001b[0m in \u001b[0;36m_assert_all_finite\u001b[0;34m(X, allow_nan, msg_dtype)\u001b[0m\n\u001b[1;32m     58\u001b[0m                     \u001b[0mmsg_err\u001b[0m\u001b[0;34m.\u001b[0m\u001b[0mformat\u001b[0m\u001b[0;34m\u001b[0m\u001b[0;34m\u001b[0m\u001b[0m\n\u001b[1;32m     59\u001b[0m                     (type_err,\n\u001b[0;32m---> 60\u001b[0;31m                      msg_dtype if msg_dtype is not None else X.dtype)\n\u001b[0m\u001b[1;32m     61\u001b[0m             )\n\u001b[1;32m     62\u001b[0m     \u001b[0;31m# for object dtype data, we only check for NaNs (GH-13254)\u001b[0m\u001b[0;34m\u001b[0m\u001b[0;34m\u001b[0m\u001b[0;34m\u001b[0m\u001b[0m\n",
            "\u001b[0;31mValueError\u001b[0m: Input contains NaN, infinity or a value too large for dtype('float64')."
          ]
        }
      ]
    },
    {
      "cell_type": "markdown",
      "metadata": {
        "id": "YqsLKC9z6NLu",
        "colab_type": "text"
      },
      "source": [
        "# Old Assets"
      ]
    },
    {
      "cell_type": "code",
      "metadata": {
        "id": "5NXduzphPVfU",
        "colab_type": "code",
        "colab": {}
      },
      "source": [
        "print(classification_report(y_test, y_pred_list))"
      ],
      "execution_count": null,
      "outputs": []
    },
    {
      "cell_type": "code",
      "metadata": {
        "id": "XqpTDFyBSuw9",
        "colab_type": "code",
        "colab": {}
      },
      "source": [
        "import pickle\n",
        "filename = 'binarynn_dcp_model.pkl'"
      ],
      "execution_count": null,
      "outputs": []
    },
    {
      "cell_type": "code",
      "metadata": {
        "id": "Dpg2BIcQb2IM",
        "colab_type": "code",
        "colab": {}
      },
      "source": [
        "torch.save(model.state_dict(),filename)\n"
      ],
      "execution_count": null,
      "outputs": []
    },
    {
      "cell_type": "code",
      "metadata": {
        "id": "dcfxrAPHc44k",
        "colab_type": "code",
        "colab": {}
      },
      "source": [
        "model.load_state_dict(torch.load(filename))"
      ],
      "execution_count": null,
      "outputs": []
    },
    {
      "cell_type": "code",
      "metadata": {
        "id": "_U7E2CDgdA7_",
        "colab_type": "code",
        "colab": {}
      },
      "source": [
        "model.eval()"
      ],
      "execution_count": null,
      "outputs": []
    },
    {
      "cell_type": "markdown",
      "metadata": {
        "id": "RVk1VqtroSpE",
        "colab_type": "text"
      },
      "source": [
        "# Test Pred New Assets"
      ]
    },
    {
      "cell_type": "code",
      "metadata": {
        "id": "tfrWLwNHoMJH",
        "colab_type": "code",
        "colab": {}
      },
      "source": [
        "X = df2[X_columns]"
      ],
      "execution_count": null,
      "outputs": []
    },
    {
      "cell_type": "code",
      "metadata": {
        "id": "eUAKUZ2qphUh",
        "colab_type": "code",
        "colab": {}
      },
      "source": [
        "y_true = df2.iloc[:,14]"
      ],
      "execution_count": null,
      "outputs": []
    },
    {
      "cell_type": "code",
      "metadata": {
        "id": "B8O01xdkpqpg",
        "colab_type": "code",
        "colab": {}
      },
      "source": [
        "X_test = scaler.fit_transform(X)"
      ],
      "execution_count": null,
      "outputs": []
    },
    {
      "cell_type": "code",
      "metadata": {
        "id": "Ib_UUpr8qEVN",
        "colab_type": "code",
        "colab": {}
      },
      "source": [
        "test_data = testData(torch.FloatTensor(X_test))"
      ],
      "execution_count": null,
      "outputs": []
    },
    {
      "cell_type": "code",
      "metadata": {
        "id": "iEAoUZssqQcj",
        "colab_type": "code",
        "colab": {}
      },
      "source": [
        "test_loader = DataLoader(dataset=test_data, batch_size=1)"
      ],
      "execution_count": null,
      "outputs": []
    },
    {
      "cell_type": "code",
      "metadata": {
        "id": "oruB7-cC6Xyb",
        "colab_type": "code",
        "colab": {}
      },
      "source": [
        "X_test.shape"
      ],
      "execution_count": null,
      "outputs": []
    },
    {
      "cell_type": "code",
      "metadata": {
        "id": "TdNyu3TcaKsU",
        "colab_type": "code",
        "colab": {}
      },
      "source": [
        "y_pred_list = []\n",
        "with torch.no_grad():\n",
        "    for X_batch in test_loader:\n",
        "        X_batch = X_batch.to(device)\n",
        "        y_test_pred = model(X_batch)\n",
        "        y_test_pred = torch.sigmoid(y_test_pred)\n",
        "        y_pred_tag = torch.round(y_test_pred)\n",
        "        y_pred_list.append(y_pred_tag.cpu().numpy())\n",
        "\n"
      ],
      "execution_count": null,
      "outputs": []
    },
    {
      "cell_type": "markdown",
      "metadata": {
        "id": "jJoFz7QCKgdq",
        "colab_type": "text"
      },
      "source": [
        "# New Assets"
      ]
    },
    {
      "cell_type": "code",
      "metadata": {
        "id": "tJYAUph2iNYL",
        "colab_type": "code",
        "colab": {}
      },
      "source": [
        "predictions=[]\n",
        "predictions.append([y_pred_list[i][0][0] for i in range(len(y_pred_list))])"
      ],
      "execution_count": null,
      "outputs": []
    },
    {
      "cell_type": "code",
      "metadata": {
        "id": "wtiN-zLylj5K",
        "colab_type": "code",
        "colab": {}
      },
      "source": [
        "print(classification_report(y_true, predictions[0]))"
      ],
      "execution_count": null,
      "outputs": []
    }
  ]
}